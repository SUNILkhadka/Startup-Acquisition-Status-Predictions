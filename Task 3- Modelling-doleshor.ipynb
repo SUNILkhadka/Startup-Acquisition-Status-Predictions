{
 "cells": [
  {
   "cell_type": "markdown",
   "id": "8d58a99e",
   "metadata": {},
   "source": [
    "Modelling"
   ]
  },
  {
   "cell_type": "code",
   "execution_count": 1,
   "id": "a9be8925",
   "metadata": {},
   "outputs": [],
   "source": [
    "#Import Libraries"
   ]
  },
  {
   "cell_type": "code",
   "execution_count": 5,
   "id": "e9ee2100",
   "metadata": {},
   "outputs": [],
   "source": [
    "import pandas as pd\n",
    "import numpy as np\n",
    "import matplotlib\n",
    "import matplotlib.pyplot as plt\n",
    "%matplotlib inline\n",
    "import seaborn as sns"
   ]
  },
  {
   "cell_type": "code",
   "execution_count": 6,
   "id": "8e65c213",
   "metadata": {},
   "outputs": [],
   "source": [
    "data = pd.read_csv(\"Final_kdataset.csv\")"
   ]
  },
  {
   "cell_type": "code",
   "execution_count": 7,
   "id": "4ea90604",
   "metadata": {},
   "outputs": [
    {
     "data": {
      "text/html": [
       "<div>\n",
       "<style scoped>\n",
       "    .dataframe tbody tr th:only-of-type {\n",
       "        vertical-align: middle;\n",
       "    }\n",
       "\n",
       "    .dataframe tbody tr th {\n",
       "        vertical-align: top;\n",
       "    }\n",
       "\n",
       "    .dataframe thead th {\n",
       "        text-align: right;\n",
       "    }\n",
       "</style>\n",
       "<table border=\"1\" class=\"dataframe\">\n",
       "  <thead>\n",
       "    <tr style=\"text-align: right;\">\n",
       "      <th></th>\n",
       "      <th>funding_rounds</th>\n",
       "      <th>funding_total_usd</th>\n",
       "      <th>milestones</th>\n",
       "      <th>relationships</th>\n",
       "      <th>lat</th>\n",
       "      <th>lng</th>\n",
       "      <th>isClose</th>\n",
       "      <th>activeDays</th>\n",
       "      <th>advertising</th>\n",
       "      <th>biotech</th>\n",
       "      <th>...</th>\n",
       "      <th>AUS</th>\n",
       "      <th>CAN</th>\n",
       "      <th>DEU</th>\n",
       "      <th>ESP</th>\n",
       "      <th>FRA</th>\n",
       "      <th>GBR</th>\n",
       "      <th>IND</th>\n",
       "      <th>ISR</th>\n",
       "      <th>USA</th>\n",
       "      <th>other.1</th>\n",
       "    </tr>\n",
       "  </thead>\n",
       "  <tbody>\n",
       "    <tr>\n",
       "      <th>0</th>\n",
       "      <td>3.0</td>\n",
       "      <td>3.975000e+07</td>\n",
       "      <td>5.0</td>\n",
       "      <td>17.000000</td>\n",
       "      <td>47.606209</td>\n",
       "      <td>-122.332071</td>\n",
       "      <td>0</td>\n",
       "      <td>2633</td>\n",
       "      <td>0.0</td>\n",
       "      <td>0.0</td>\n",
       "      <td>...</td>\n",
       "      <td>0.0</td>\n",
       "      <td>0.0</td>\n",
       "      <td>0.0</td>\n",
       "      <td>0.0</td>\n",
       "      <td>0.0</td>\n",
       "      <td>0.0</td>\n",
       "      <td>0.0</td>\n",
       "      <td>0.0</td>\n",
       "      <td>1.0</td>\n",
       "      <td>0.0</td>\n",
       "    </tr>\n",
       "    <tr>\n",
       "      <th>1</th>\n",
       "      <td>1.0</td>\n",
       "      <td>1.518011e+07</td>\n",
       "      <td>1.0</td>\n",
       "      <td>2.000000</td>\n",
       "      <td>30.427755</td>\n",
       "      <td>-9.598107</td>\n",
       "      <td>0</td>\n",
       "      <td>2015</td>\n",
       "      <td>1.0</td>\n",
       "      <td>0.0</td>\n",
       "      <td>...</td>\n",
       "      <td>0.0</td>\n",
       "      <td>0.0</td>\n",
       "      <td>0.0</td>\n",
       "      <td>0.0</td>\n",
       "      <td>0.0</td>\n",
       "      <td>0.0</td>\n",
       "      <td>0.0</td>\n",
       "      <td>0.0</td>\n",
       "      <td>0.0</td>\n",
       "      <td>1.0</td>\n",
       "    </tr>\n",
       "    <tr>\n",
       "      <th>2</th>\n",
       "      <td>1.0</td>\n",
       "      <td>1.518011e+07</td>\n",
       "      <td>1.0</td>\n",
       "      <td>4.371275</td>\n",
       "      <td>22.307159</td>\n",
       "      <td>73.181219</td>\n",
       "      <td>0</td>\n",
       "      <td>1595</td>\n",
       "      <td>0.0</td>\n",
       "      <td>0.0</td>\n",
       "      <td>...</td>\n",
       "      <td>0.0</td>\n",
       "      <td>0.0</td>\n",
       "      <td>0.0</td>\n",
       "      <td>0.0</td>\n",
       "      <td>0.0</td>\n",
       "      <td>0.0</td>\n",
       "      <td>1.0</td>\n",
       "      <td>0.0</td>\n",
       "      <td>0.0</td>\n",
       "      <td>0.0</td>\n",
       "    </tr>\n",
       "    <tr>\n",
       "      <th>3</th>\n",
       "      <td>1.0</td>\n",
       "      <td>1.518011e+07</td>\n",
       "      <td>1.0</td>\n",
       "      <td>2.000000</td>\n",
       "      <td>35.686975</td>\n",
       "      <td>-105.937799</td>\n",
       "      <td>0</td>\n",
       "      <td>1614</td>\n",
       "      <td>1.0</td>\n",
       "      <td>0.0</td>\n",
       "      <td>...</td>\n",
       "      <td>0.0</td>\n",
       "      <td>0.0</td>\n",
       "      <td>0.0</td>\n",
       "      <td>0.0</td>\n",
       "      <td>0.0</td>\n",
       "      <td>0.0</td>\n",
       "      <td>0.0</td>\n",
       "      <td>0.0</td>\n",
       "      <td>1.0</td>\n",
       "      <td>0.0</td>\n",
       "    </tr>\n",
       "    <tr>\n",
       "      <th>4</th>\n",
       "      <td>1.0</td>\n",
       "      <td>5.000000e+06</td>\n",
       "      <td>3.0</td>\n",
       "      <td>14.000000</td>\n",
       "      <td>37.386052</td>\n",
       "      <td>-122.083851</td>\n",
       "      <td>1</td>\n",
       "      <td>1919</td>\n",
       "      <td>0.0</td>\n",
       "      <td>0.0</td>\n",
       "      <td>...</td>\n",
       "      <td>0.0</td>\n",
       "      <td>0.0</td>\n",
       "      <td>0.0</td>\n",
       "      <td>0.0</td>\n",
       "      <td>0.0</td>\n",
       "      <td>0.0</td>\n",
       "      <td>0.0</td>\n",
       "      <td>0.0</td>\n",
       "      <td>1.0</td>\n",
       "      <td>0.0</td>\n",
       "    </tr>\n",
       "    <tr>\n",
       "      <th>...</th>\n",
       "      <td>...</td>\n",
       "      <td>...</td>\n",
       "      <td>...</td>\n",
       "      <td>...</td>\n",
       "      <td>...</td>\n",
       "      <td>...</td>\n",
       "      <td>...</td>\n",
       "      <td>...</td>\n",
       "      <td>...</td>\n",
       "      <td>...</td>\n",
       "      <td>...</td>\n",
       "      <td>...</td>\n",
       "      <td>...</td>\n",
       "      <td>...</td>\n",
       "      <td>...</td>\n",
       "      <td>...</td>\n",
       "      <td>...</td>\n",
       "      <td>...</td>\n",
       "      <td>...</td>\n",
       "      <td>...</td>\n",
       "      <td>...</td>\n",
       "    </tr>\n",
       "    <tr>\n",
       "      <th>63570</th>\n",
       "      <td>1.0</td>\n",
       "      <td>1.518011e+07</td>\n",
       "      <td>2.0</td>\n",
       "      <td>5.000000</td>\n",
       "      <td>37.774929</td>\n",
       "      <td>-122.419415</td>\n",
       "      <td>0</td>\n",
       "      <td>2192</td>\n",
       "      <td>0.0</td>\n",
       "      <td>0.0</td>\n",
       "      <td>...</td>\n",
       "      <td>0.0</td>\n",
       "      <td>0.0</td>\n",
       "      <td>0.0</td>\n",
       "      <td>0.0</td>\n",
       "      <td>0.0</td>\n",
       "      <td>0.0</td>\n",
       "      <td>0.0</td>\n",
       "      <td>0.0</td>\n",
       "      <td>1.0</td>\n",
       "      <td>0.0</td>\n",
       "    </tr>\n",
       "    <tr>\n",
       "      <th>63571</th>\n",
       "      <td>1.0</td>\n",
       "      <td>7.500000e+05</td>\n",
       "      <td>1.0</td>\n",
       "      <td>14.000000</td>\n",
       "      <td>37.338208</td>\n",
       "      <td>-121.886329</td>\n",
       "      <td>0</td>\n",
       "      <td>1888</td>\n",
       "      <td>0.0</td>\n",
       "      <td>0.0</td>\n",
       "      <td>...</td>\n",
       "      <td>0.0</td>\n",
       "      <td>0.0</td>\n",
       "      <td>0.0</td>\n",
       "      <td>0.0</td>\n",
       "      <td>0.0</td>\n",
       "      <td>0.0</td>\n",
       "      <td>0.0</td>\n",
       "      <td>0.0</td>\n",
       "      <td>1.0</td>\n",
       "      <td>0.0</td>\n",
       "    </tr>\n",
       "    <tr>\n",
       "      <th>63572</th>\n",
       "      <td>1.0</td>\n",
       "      <td>1.518011e+07</td>\n",
       "      <td>3.0</td>\n",
       "      <td>44.000000</td>\n",
       "      <td>38.882334</td>\n",
       "      <td>-77.171091</td>\n",
       "      <td>0</td>\n",
       "      <td>19724</td>\n",
       "      <td>0.0</td>\n",
       "      <td>0.0</td>\n",
       "      <td>...</td>\n",
       "      <td>0.0</td>\n",
       "      <td>0.0</td>\n",
       "      <td>0.0</td>\n",
       "      <td>0.0</td>\n",
       "      <td>0.0</td>\n",
       "      <td>0.0</td>\n",
       "      <td>0.0</td>\n",
       "      <td>0.0</td>\n",
       "      <td>1.0</td>\n",
       "      <td>0.0</td>\n",
       "    </tr>\n",
       "    <tr>\n",
       "      <th>63573</th>\n",
       "      <td>1.0</td>\n",
       "      <td>1.518011e+07</td>\n",
       "      <td>1.0</td>\n",
       "      <td>1.000000</td>\n",
       "      <td>34.052234</td>\n",
       "      <td>-118.243685</td>\n",
       "      <td>0</td>\n",
       "      <td>1645</td>\n",
       "      <td>0.0</td>\n",
       "      <td>0.0</td>\n",
       "      <td>...</td>\n",
       "      <td>0.0</td>\n",
       "      <td>0.0</td>\n",
       "      <td>0.0</td>\n",
       "      <td>0.0</td>\n",
       "      <td>0.0</td>\n",
       "      <td>0.0</td>\n",
       "      <td>0.0</td>\n",
       "      <td>0.0</td>\n",
       "      <td>1.0</td>\n",
       "      <td>0.0</td>\n",
       "    </tr>\n",
       "    <tr>\n",
       "      <th>63574</th>\n",
       "      <td>1.0</td>\n",
       "      <td>4.750000e+05</td>\n",
       "      <td>2.0</td>\n",
       "      <td>1.000000</td>\n",
       "      <td>34.035633</td>\n",
       "      <td>-118.515590</td>\n",
       "      <td>0</td>\n",
       "      <td>1949</td>\n",
       "      <td>0.0</td>\n",
       "      <td>0.0</td>\n",
       "      <td>...</td>\n",
       "      <td>0.0</td>\n",
       "      <td>0.0</td>\n",
       "      <td>0.0</td>\n",
       "      <td>0.0</td>\n",
       "      <td>0.0</td>\n",
       "      <td>0.0</td>\n",
       "      <td>0.0</td>\n",
       "      <td>0.0</td>\n",
       "      <td>1.0</td>\n",
       "      <td>0.0</td>\n",
       "    </tr>\n",
       "  </tbody>\n",
       "</table>\n",
       "<p>63575 rows × 37 columns</p>\n",
       "</div>"
      ],
      "text/plain": [
       "       funding_rounds  funding_total_usd  milestones  relationships  \\\n",
       "0                 3.0       3.975000e+07         5.0      17.000000   \n",
       "1                 1.0       1.518011e+07         1.0       2.000000   \n",
       "2                 1.0       1.518011e+07         1.0       4.371275   \n",
       "3                 1.0       1.518011e+07         1.0       2.000000   \n",
       "4                 1.0       5.000000e+06         3.0      14.000000   \n",
       "...               ...                ...         ...            ...   \n",
       "63570             1.0       1.518011e+07         2.0       5.000000   \n",
       "63571             1.0       7.500000e+05         1.0      14.000000   \n",
       "63572             1.0       1.518011e+07         3.0      44.000000   \n",
       "63573             1.0       1.518011e+07         1.0       1.000000   \n",
       "63574             1.0       4.750000e+05         2.0       1.000000   \n",
       "\n",
       "             lat         lng  isClose  activeDays  advertising  biotech  ...  \\\n",
       "0      47.606209 -122.332071        0        2633          0.0      0.0  ...   \n",
       "1      30.427755   -9.598107        0        2015          1.0      0.0  ...   \n",
       "2      22.307159   73.181219        0        1595          0.0      0.0  ...   \n",
       "3      35.686975 -105.937799        0        1614          1.0      0.0  ...   \n",
       "4      37.386052 -122.083851        1        1919          0.0      0.0  ...   \n",
       "...          ...         ...      ...         ...          ...      ...  ...   \n",
       "63570  37.774929 -122.419415        0        2192          0.0      0.0  ...   \n",
       "63571  37.338208 -121.886329        0        1888          0.0      0.0  ...   \n",
       "63572  38.882334  -77.171091        0       19724          0.0      0.0  ...   \n",
       "63573  34.052234 -118.243685        0        1645          0.0      0.0  ...   \n",
       "63574  34.035633 -118.515590        0        1949          0.0      0.0  ...   \n",
       "\n",
       "       AUS  CAN  DEU  ESP  FRA  GBR  IND  ISR  USA  other.1  \n",
       "0      0.0  0.0  0.0  0.0  0.0  0.0  0.0  0.0  1.0      0.0  \n",
       "1      0.0  0.0  0.0  0.0  0.0  0.0  0.0  0.0  0.0      1.0  \n",
       "2      0.0  0.0  0.0  0.0  0.0  0.0  1.0  0.0  0.0      0.0  \n",
       "3      0.0  0.0  0.0  0.0  0.0  0.0  0.0  0.0  1.0      0.0  \n",
       "4      0.0  0.0  0.0  0.0  0.0  0.0  0.0  0.0  1.0      0.0  \n",
       "...    ...  ...  ...  ...  ...  ...  ...  ...  ...      ...  \n",
       "63570  0.0  0.0  0.0  0.0  0.0  0.0  0.0  0.0  1.0      0.0  \n",
       "63571  0.0  0.0  0.0  0.0  0.0  0.0  0.0  0.0  1.0      0.0  \n",
       "63572  0.0  0.0  0.0  0.0  0.0  0.0  0.0  0.0  1.0      0.0  \n",
       "63573  0.0  0.0  0.0  0.0  0.0  0.0  0.0  0.0  1.0      0.0  \n",
       "63574  0.0  0.0  0.0  0.0  0.0  0.0  0.0  0.0  1.0      0.0  \n",
       "\n",
       "[63575 rows x 37 columns]"
      ]
     },
     "execution_count": 7,
     "metadata": {},
     "output_type": "execute_result"
    }
   ],
   "source": [
    "data"
   ]
  },
  {
   "cell_type": "code",
   "execution_count": 9,
   "id": "f6cb14cb",
   "metadata": {},
   "outputs": [
    {
     "data": {
      "text/html": [
       "<div>\n",
       "<style scoped>\n",
       "    .dataframe tbody tr th:only-of-type {\n",
       "        vertical-align: middle;\n",
       "    }\n",
       "\n",
       "    .dataframe tbody tr th {\n",
       "        vertical-align: top;\n",
       "    }\n",
       "\n",
       "    .dataframe thead th {\n",
       "        text-align: right;\n",
       "    }\n",
       "</style>\n",
       "<table border=\"1\" class=\"dataframe\">\n",
       "  <thead>\n",
       "    <tr style=\"text-align: right;\">\n",
       "      <th></th>\n",
       "      <th>funding_rounds</th>\n",
       "      <th>funding_total_usd</th>\n",
       "      <th>milestones</th>\n",
       "      <th>relationships</th>\n",
       "      <th>lat</th>\n",
       "      <th>lng</th>\n",
       "      <th>activeDays</th>\n",
       "      <th>advertising</th>\n",
       "      <th>biotech</th>\n",
       "      <th>consulting</th>\n",
       "      <th>...</th>\n",
       "      <th>AUS</th>\n",
       "      <th>CAN</th>\n",
       "      <th>DEU</th>\n",
       "      <th>ESP</th>\n",
       "      <th>FRA</th>\n",
       "      <th>GBR</th>\n",
       "      <th>IND</th>\n",
       "      <th>ISR</th>\n",
       "      <th>USA</th>\n",
       "      <th>other.1</th>\n",
       "    </tr>\n",
       "  </thead>\n",
       "  <tbody>\n",
       "    <tr>\n",
       "      <th>0</th>\n",
       "      <td>3.0</td>\n",
       "      <td>3.975000e+07</td>\n",
       "      <td>5.0</td>\n",
       "      <td>17.000000</td>\n",
       "      <td>47.606209</td>\n",
       "      <td>-122.332071</td>\n",
       "      <td>2633</td>\n",
       "      <td>0.0</td>\n",
       "      <td>0.0</td>\n",
       "      <td>0.0</td>\n",
       "      <td>...</td>\n",
       "      <td>0.0</td>\n",
       "      <td>0.0</td>\n",
       "      <td>0.0</td>\n",
       "      <td>0.0</td>\n",
       "      <td>0.0</td>\n",
       "      <td>0.0</td>\n",
       "      <td>0.0</td>\n",
       "      <td>0.0</td>\n",
       "      <td>1.0</td>\n",
       "      <td>0.0</td>\n",
       "    </tr>\n",
       "    <tr>\n",
       "      <th>1</th>\n",
       "      <td>1.0</td>\n",
       "      <td>1.518011e+07</td>\n",
       "      <td>1.0</td>\n",
       "      <td>2.000000</td>\n",
       "      <td>30.427755</td>\n",
       "      <td>-9.598107</td>\n",
       "      <td>2015</td>\n",
       "      <td>1.0</td>\n",
       "      <td>0.0</td>\n",
       "      <td>0.0</td>\n",
       "      <td>...</td>\n",
       "      <td>0.0</td>\n",
       "      <td>0.0</td>\n",
       "      <td>0.0</td>\n",
       "      <td>0.0</td>\n",
       "      <td>0.0</td>\n",
       "      <td>0.0</td>\n",
       "      <td>0.0</td>\n",
       "      <td>0.0</td>\n",
       "      <td>0.0</td>\n",
       "      <td>1.0</td>\n",
       "    </tr>\n",
       "    <tr>\n",
       "      <th>2</th>\n",
       "      <td>1.0</td>\n",
       "      <td>1.518011e+07</td>\n",
       "      <td>1.0</td>\n",
       "      <td>4.371275</td>\n",
       "      <td>22.307159</td>\n",
       "      <td>73.181219</td>\n",
       "      <td>1595</td>\n",
       "      <td>0.0</td>\n",
       "      <td>0.0</td>\n",
       "      <td>0.0</td>\n",
       "      <td>...</td>\n",
       "      <td>0.0</td>\n",
       "      <td>0.0</td>\n",
       "      <td>0.0</td>\n",
       "      <td>0.0</td>\n",
       "      <td>0.0</td>\n",
       "      <td>0.0</td>\n",
       "      <td>1.0</td>\n",
       "      <td>0.0</td>\n",
       "      <td>0.0</td>\n",
       "      <td>0.0</td>\n",
       "    </tr>\n",
       "    <tr>\n",
       "      <th>3</th>\n",
       "      <td>1.0</td>\n",
       "      <td>1.518011e+07</td>\n",
       "      <td>1.0</td>\n",
       "      <td>2.000000</td>\n",
       "      <td>35.686975</td>\n",
       "      <td>-105.937799</td>\n",
       "      <td>1614</td>\n",
       "      <td>1.0</td>\n",
       "      <td>0.0</td>\n",
       "      <td>0.0</td>\n",
       "      <td>...</td>\n",
       "      <td>0.0</td>\n",
       "      <td>0.0</td>\n",
       "      <td>0.0</td>\n",
       "      <td>0.0</td>\n",
       "      <td>0.0</td>\n",
       "      <td>0.0</td>\n",
       "      <td>0.0</td>\n",
       "      <td>0.0</td>\n",
       "      <td>1.0</td>\n",
       "      <td>0.0</td>\n",
       "    </tr>\n",
       "    <tr>\n",
       "      <th>4</th>\n",
       "      <td>1.0</td>\n",
       "      <td>5.000000e+06</td>\n",
       "      <td>3.0</td>\n",
       "      <td>14.000000</td>\n",
       "      <td>37.386052</td>\n",
       "      <td>-122.083851</td>\n",
       "      <td>1919</td>\n",
       "      <td>0.0</td>\n",
       "      <td>0.0</td>\n",
       "      <td>0.0</td>\n",
       "      <td>...</td>\n",
       "      <td>0.0</td>\n",
       "      <td>0.0</td>\n",
       "      <td>0.0</td>\n",
       "      <td>0.0</td>\n",
       "      <td>0.0</td>\n",
       "      <td>0.0</td>\n",
       "      <td>0.0</td>\n",
       "      <td>0.0</td>\n",
       "      <td>1.0</td>\n",
       "      <td>0.0</td>\n",
       "    </tr>\n",
       "    <tr>\n",
       "      <th>...</th>\n",
       "      <td>...</td>\n",
       "      <td>...</td>\n",
       "      <td>...</td>\n",
       "      <td>...</td>\n",
       "      <td>...</td>\n",
       "      <td>...</td>\n",
       "      <td>...</td>\n",
       "      <td>...</td>\n",
       "      <td>...</td>\n",
       "      <td>...</td>\n",
       "      <td>...</td>\n",
       "      <td>...</td>\n",
       "      <td>...</td>\n",
       "      <td>...</td>\n",
       "      <td>...</td>\n",
       "      <td>...</td>\n",
       "      <td>...</td>\n",
       "      <td>...</td>\n",
       "      <td>...</td>\n",
       "      <td>...</td>\n",
       "      <td>...</td>\n",
       "    </tr>\n",
       "    <tr>\n",
       "      <th>63570</th>\n",
       "      <td>1.0</td>\n",
       "      <td>1.518011e+07</td>\n",
       "      <td>2.0</td>\n",
       "      <td>5.000000</td>\n",
       "      <td>37.774929</td>\n",
       "      <td>-122.419415</td>\n",
       "      <td>2192</td>\n",
       "      <td>0.0</td>\n",
       "      <td>0.0</td>\n",
       "      <td>0.0</td>\n",
       "      <td>...</td>\n",
       "      <td>0.0</td>\n",
       "      <td>0.0</td>\n",
       "      <td>0.0</td>\n",
       "      <td>0.0</td>\n",
       "      <td>0.0</td>\n",
       "      <td>0.0</td>\n",
       "      <td>0.0</td>\n",
       "      <td>0.0</td>\n",
       "      <td>1.0</td>\n",
       "      <td>0.0</td>\n",
       "    </tr>\n",
       "    <tr>\n",
       "      <th>63571</th>\n",
       "      <td>1.0</td>\n",
       "      <td>7.500000e+05</td>\n",
       "      <td>1.0</td>\n",
       "      <td>14.000000</td>\n",
       "      <td>37.338208</td>\n",
       "      <td>-121.886329</td>\n",
       "      <td>1888</td>\n",
       "      <td>0.0</td>\n",
       "      <td>0.0</td>\n",
       "      <td>0.0</td>\n",
       "      <td>...</td>\n",
       "      <td>0.0</td>\n",
       "      <td>0.0</td>\n",
       "      <td>0.0</td>\n",
       "      <td>0.0</td>\n",
       "      <td>0.0</td>\n",
       "      <td>0.0</td>\n",
       "      <td>0.0</td>\n",
       "      <td>0.0</td>\n",
       "      <td>1.0</td>\n",
       "      <td>0.0</td>\n",
       "    </tr>\n",
       "    <tr>\n",
       "      <th>63572</th>\n",
       "      <td>1.0</td>\n",
       "      <td>1.518011e+07</td>\n",
       "      <td>3.0</td>\n",
       "      <td>44.000000</td>\n",
       "      <td>38.882334</td>\n",
       "      <td>-77.171091</td>\n",
       "      <td>19724</td>\n",
       "      <td>0.0</td>\n",
       "      <td>0.0</td>\n",
       "      <td>1.0</td>\n",
       "      <td>...</td>\n",
       "      <td>0.0</td>\n",
       "      <td>0.0</td>\n",
       "      <td>0.0</td>\n",
       "      <td>0.0</td>\n",
       "      <td>0.0</td>\n",
       "      <td>0.0</td>\n",
       "      <td>0.0</td>\n",
       "      <td>0.0</td>\n",
       "      <td>1.0</td>\n",
       "      <td>0.0</td>\n",
       "    </tr>\n",
       "    <tr>\n",
       "      <th>63573</th>\n",
       "      <td>1.0</td>\n",
       "      <td>1.518011e+07</td>\n",
       "      <td>1.0</td>\n",
       "      <td>1.000000</td>\n",
       "      <td>34.052234</td>\n",
       "      <td>-118.243685</td>\n",
       "      <td>1645</td>\n",
       "      <td>0.0</td>\n",
       "      <td>0.0</td>\n",
       "      <td>0.0</td>\n",
       "      <td>...</td>\n",
       "      <td>0.0</td>\n",
       "      <td>0.0</td>\n",
       "      <td>0.0</td>\n",
       "      <td>0.0</td>\n",
       "      <td>0.0</td>\n",
       "      <td>0.0</td>\n",
       "      <td>0.0</td>\n",
       "      <td>0.0</td>\n",
       "      <td>1.0</td>\n",
       "      <td>0.0</td>\n",
       "    </tr>\n",
       "    <tr>\n",
       "      <th>63574</th>\n",
       "      <td>1.0</td>\n",
       "      <td>4.750000e+05</td>\n",
       "      <td>2.0</td>\n",
       "      <td>1.000000</td>\n",
       "      <td>34.035633</td>\n",
       "      <td>-118.515590</td>\n",
       "      <td>1949</td>\n",
       "      <td>0.0</td>\n",
       "      <td>0.0</td>\n",
       "      <td>0.0</td>\n",
       "      <td>...</td>\n",
       "      <td>0.0</td>\n",
       "      <td>0.0</td>\n",
       "      <td>0.0</td>\n",
       "      <td>0.0</td>\n",
       "      <td>0.0</td>\n",
       "      <td>0.0</td>\n",
       "      <td>0.0</td>\n",
       "      <td>0.0</td>\n",
       "      <td>1.0</td>\n",
       "      <td>0.0</td>\n",
       "    </tr>\n",
       "  </tbody>\n",
       "</table>\n",
       "<p>63575 rows × 36 columns</p>\n",
       "</div>"
      ],
      "text/plain": [
       "       funding_rounds  funding_total_usd  milestones  relationships  \\\n",
       "0                 3.0       3.975000e+07         5.0      17.000000   \n",
       "1                 1.0       1.518011e+07         1.0       2.000000   \n",
       "2                 1.0       1.518011e+07         1.0       4.371275   \n",
       "3                 1.0       1.518011e+07         1.0       2.000000   \n",
       "4                 1.0       5.000000e+06         3.0      14.000000   \n",
       "...               ...                ...         ...            ...   \n",
       "63570             1.0       1.518011e+07         2.0       5.000000   \n",
       "63571             1.0       7.500000e+05         1.0      14.000000   \n",
       "63572             1.0       1.518011e+07         3.0      44.000000   \n",
       "63573             1.0       1.518011e+07         1.0       1.000000   \n",
       "63574             1.0       4.750000e+05         2.0       1.000000   \n",
       "\n",
       "             lat         lng  activeDays  advertising  biotech  consulting  \\\n",
       "0      47.606209 -122.332071        2633          0.0      0.0         0.0   \n",
       "1      30.427755   -9.598107        2015          1.0      0.0         0.0   \n",
       "2      22.307159   73.181219        1595          0.0      0.0         0.0   \n",
       "3      35.686975 -105.937799        1614          1.0      0.0         0.0   \n",
       "4      37.386052 -122.083851        1919          0.0      0.0         0.0   \n",
       "...          ...         ...         ...          ...      ...         ...   \n",
       "63570  37.774929 -122.419415        2192          0.0      0.0         0.0   \n",
       "63571  37.338208 -121.886329        1888          0.0      0.0         0.0   \n",
       "63572  38.882334  -77.171091       19724          0.0      0.0         1.0   \n",
       "63573  34.052234 -118.243685        1645          0.0      0.0         0.0   \n",
       "63574  34.035633 -118.515590        1949          0.0      0.0         0.0   \n",
       "\n",
       "       ...  AUS  CAN  DEU  ESP  FRA  GBR  IND  ISR  USA  other.1  \n",
       "0      ...  0.0  0.0  0.0  0.0  0.0  0.0  0.0  0.0  1.0      0.0  \n",
       "1      ...  0.0  0.0  0.0  0.0  0.0  0.0  0.0  0.0  0.0      1.0  \n",
       "2      ...  0.0  0.0  0.0  0.0  0.0  0.0  1.0  0.0  0.0      0.0  \n",
       "3      ...  0.0  0.0  0.0  0.0  0.0  0.0  0.0  0.0  1.0      0.0  \n",
       "4      ...  0.0  0.0  0.0  0.0  0.0  0.0  0.0  0.0  1.0      0.0  \n",
       "...    ...  ...  ...  ...  ...  ...  ...  ...  ...  ...      ...  \n",
       "63570  ...  0.0  0.0  0.0  0.0  0.0  0.0  0.0  0.0  1.0      0.0  \n",
       "63571  ...  0.0  0.0  0.0  0.0  0.0  0.0  0.0  0.0  1.0      0.0  \n",
       "63572  ...  0.0  0.0  0.0  0.0  0.0  0.0  0.0  0.0  1.0      0.0  \n",
       "63573  ...  0.0  0.0  0.0  0.0  0.0  0.0  0.0  0.0  1.0      0.0  \n",
       "63574  ...  0.0  0.0  0.0  0.0  0.0  0.0  0.0  0.0  1.0      0.0  \n",
       "\n",
       "[63575 rows x 36 columns]"
      ]
     },
     "execution_count": 9,
     "metadata": {},
     "output_type": "execute_result"
    }
   ],
   "source": [
    "X=data.drop(['isClose'],axis=1)\n",
    "X"
   ]
  },
  {
   "cell_type": "code",
   "execution_count": 10,
   "id": "4cb04c29",
   "metadata": {},
   "outputs": [],
   "source": [
    "y=data['isClose']"
   ]
  },
  {
   "cell_type": "code",
   "execution_count": null,
   "id": "0caa2d51",
   "metadata": {},
   "outputs": [],
   "source": []
  },
  {
   "cell_type": "code",
   "execution_count": null,
   "id": "5cc8557f",
   "metadata": {},
   "outputs": [],
   "source": []
  },
  {
   "cell_type": "code",
   "execution_count": null,
   "id": "298fcff7",
   "metadata": {},
   "outputs": [],
   "source": [
    "#Feature selection\n"
   ]
  },
  {
   "cell_type": "markdown",
   "id": "67a2dec8",
   "metadata": {},
   "source": [
    "# Pearson Correlation"
   ]
  },
  {
   "cell_type": "code",
   "execution_count": 12,
   "id": "addf67e7",
   "metadata": {},
   "outputs": [],
   "source": [
    "feature_name = list(X.columns)\n",
    "# no of maximum features we need to select\n",
    "num_feats=25"
   ]
  },
  {
   "cell_type": "code",
   "execution_count": 13,
   "id": "14c35afe",
   "metadata": {},
   "outputs": [
    {
     "data": {
      "text/plain": [
       "[0.06208312383720108,\n",
       " -0.0002275838095529856,\n",
       " 0.14787836729455522,\n",
       " 0.049640801995567405,\n",
       " 0.029444016475998973,\n",
       " -0.09116136836218604,\n",
       " 0.07964786776976668,\n",
       " -0.009296058876773747,\n",
       " 0.023116290537757468,\n",
       " -0.0426418052422508,\n",
       " -0.033889375455447214,\n",
       " -0.032742837288524354,\n",
       " 0.01531315770437259,\n",
       " 0.01825404088312996,\n",
       " 0.00494508309980098,\n",
       " 0.01136577123721694,\n",
       " 0.020097783113567354,\n",
       " -0.039224831926648863,\n",
       " 0.0062074983108311105,\n",
       " -0.005596407824808805,\n",
       " 0.02462464783007813,\n",
       " 0.03975462324908107,\n",
       " 0.8281970443825741,\n",
       " 0.5256405716293467,\n",
       " -0.030315191614584992,\n",
       " -0.9441550559370105,\n",
       " -0.020359429283823192,\n",
       " -0.009601389510416,\n",
       " -0.0051014343193493085,\n",
       " -0.019328237431430986,\n",
       " -0.00827623910420511,\n",
       " -0.018356036553207594,\n",
       " -0.053904364166599064,\n",
       " 0.011955397150484841,\n",
       " 0.09436000889415395,\n",
       " -0.061171626068049906]"
      ]
     },
     "execution_count": 13,
     "metadata": {},
     "output_type": "execute_result"
    }
   ],
   "source": [
    "cor_list = []\n",
    "for i in feature_name:\n",
    "         cor= np.corrcoef(X[i],y)[0,1]\n",
    "         cor_list.append(cor)\n",
    "cor_list"
   ]
  },
  {
   "cell_type": "code",
   "execution_count": 14,
   "id": "a21c9134",
   "metadata": {},
   "outputs": [
    {
     "data": {
      "text/plain": [
       "[0.06208312383720108,\n",
       " -0.0002275838095529856,\n",
       " 0.14787836729455522,\n",
       " 0.049640801995567405,\n",
       " 0.029444016475998973,\n",
       " -0.09116136836218604,\n",
       " 0.07964786776976668,\n",
       " -0.009296058876773747,\n",
       " 0.023116290537757468,\n",
       " -0.0426418052422508,\n",
       " -0.033889375455447214,\n",
       " -0.032742837288524354,\n",
       " 0.01531315770437259,\n",
       " 0.01825404088312996,\n",
       " 0.00494508309980098,\n",
       " 0.01136577123721694,\n",
       " 0.020097783113567354,\n",
       " -0.039224831926648863,\n",
       " 0.0062074983108311105,\n",
       " -0.005596407824808805,\n",
       " 0.02462464783007813,\n",
       " 0.03975462324908107,\n",
       " 0.8281970443825741,\n",
       " 0.5256405716293467,\n",
       " -0.030315191614584992,\n",
       " -0.9441550559370105,\n",
       " -0.020359429283823192,\n",
       " -0.009601389510416,\n",
       " -0.0051014343193493085,\n",
       " -0.019328237431430986,\n",
       " -0.00827623910420511,\n",
       " -0.018356036553207594,\n",
       " -0.053904364166599064,\n",
       " 0.011955397150484841,\n",
       " 0.09436000889415395,\n",
       " -0.061171626068049906]"
      ]
     },
     "execution_count": 14,
     "metadata": {},
     "output_type": "execute_result"
    }
   ],
   "source": [
    "cor_list =[0 if np.isnan(i) else i for i in cor_list]\n",
    "cor_list"
   ]
  },
  {
   "cell_type": "code",
   "execution_count": 15,
   "id": "ad6b43ca",
   "metadata": {},
   "outputs": [
    {
     "data": {
      "text/plain": [
       "['funding_total_usd',\n",
       " 'hardware',\n",
       " 'DEU',\n",
       " 'search',\n",
       " 'public_relations',\n",
       " 'FRA',\n",
       " 'advertising',\n",
       " 'CAN',\n",
       " 'mobile',\n",
       " 'ISR',\n",
       " 'enterprise',\n",
       " 'games_video',\n",
       " 'GBR',\n",
       " 'ESP',\n",
       " 'network_hosting',\n",
       " 'AUS',\n",
       " 'biotech',\n",
       " 'software',\n",
       " 'lat',\n",
       " 'ipo',\n",
       " 'education',\n",
       " 'ecommerce',\n",
       " 'other',\n",
       " 'web',\n",
       " 'consulting',\n",
       " 'relationships',\n",
       " 'IND',\n",
       " 'other.1',\n",
       " 'funding_rounds',\n",
       " 'activeDays',\n",
       " 'lng',\n",
       " 'USA',\n",
       " 'milestones',\n",
       " 'closed',\n",
       " 'acquired',\n",
       " 'operating']"
      ]
     },
     "execution_count": 15,
     "metadata": {},
     "output_type": "execute_result"
    }
   ],
   "source": [
    "feature_set= X.iloc[:,np.argsort(np.abs(cor_list))].columns.tolist()\n",
    "feature_set"
   ]
  },
  {
   "cell_type": "code",
   "execution_count": 16,
   "id": "d06033ae",
   "metadata": {},
   "outputs": [
    {
     "data": {
      "text/plain": [
       "['IND',\n",
       " 'other.1',\n",
       " 'funding_rounds',\n",
       " 'activeDays',\n",
       " 'lng',\n",
       " 'USA',\n",
       " 'milestones',\n",
       " 'closed',\n",
       " 'acquired',\n",
       " 'operating']"
      ]
     },
     "execution_count": 16,
     "metadata": {},
     "output_type": "execute_result"
    }
   ],
   "source": [
    "cor_feature = X.iloc[:,np.argsort(np.abs(cor_list))[-10:]].columns.tolist()\n",
    "cor_feature\n"
   ]
  },
  {
   "cell_type": "code",
   "execution_count": 17,
   "id": "7c817fd9",
   "metadata": {},
   "outputs": [],
   "source": [
    "def cor_selector(X, y,num_feats):\n",
    "    # Your code goes here (Multiple lines\n",
    "    cor_list = []\n",
    "    for i in feature_name:\n",
    "        cor= np.corrcoef(X[i],y)[0,1]\n",
    "        cor_list.append(cor)\n",
    "        \n",
    "    cor_list =[0 if np.isnan(i) else i for i in cor_list]\n",
    "    cor_feature = X.iloc[:,np.argsort(np.abs(cor_list))[-num_feats:]].columns.tolist()\n",
    "    cor_support =[True if i in feature_set else False for i in feature_name] \n",
    "    \n",
    "    # Your code ends here\n",
    "    return cor_support, cor_feature"
   ]
  },
  {
   "cell_type": "code",
   "execution_count": 18,
   "id": "d15e46e6",
   "metadata": {},
   "outputs": [
    {
     "name": "stdout",
     "output_type": "stream",
     "text": [
      "25 selected features\n"
     ]
    }
   ],
   "source": [
    "cor_support, cor_feature = cor_selector(X, y,num_feats)\n",
    "print(str(len(cor_feature)), 'selected features')"
   ]
  },
  {
   "cell_type": "code",
   "execution_count": 19,
   "id": "de22ecaa",
   "metadata": {},
   "outputs": [
    {
     "data": {
      "text/plain": [
       "['games_video',\n",
       " 'GBR',\n",
       " 'ESP',\n",
       " 'network_hosting',\n",
       " 'AUS',\n",
       " 'biotech',\n",
       " 'software',\n",
       " 'lat',\n",
       " 'ipo',\n",
       " 'education',\n",
       " 'ecommerce',\n",
       " 'other',\n",
       " 'web',\n",
       " 'consulting',\n",
       " 'relationships',\n",
       " 'IND',\n",
       " 'other.1',\n",
       " 'funding_rounds',\n",
       " 'activeDays',\n",
       " 'lng',\n",
       " 'USA',\n",
       " 'milestones',\n",
       " 'closed',\n",
       " 'acquired',\n",
       " 'operating']"
      ]
     },
     "execution_count": 19,
     "metadata": {},
     "output_type": "execute_result"
    }
   ],
   "source": [
    "cor_feature"
   ]
  },
  {
   "cell_type": "markdown",
   "id": "f5d5160e",
   "metadata": {},
   "source": [
    "# Embedded Selection - Lasso: SelectFromModel"
   ]
  },
  {
   "cell_type": "code",
   "execution_count": 20,
   "id": "713e889d",
   "metadata": {},
   "outputs": [],
   "source": [
    "from sklearn.feature_selection import SelectFromModel\n",
    "from sklearn.linear_model import LogisticRegression\n",
    "from sklearn.preprocessing import MinMaxScaler"
   ]
  },
  {
   "cell_type": "code",
   "execution_count": 21,
   "id": "f70a34b6",
   "metadata": {},
   "outputs": [
    {
     "data": {
      "text/plain": [
       "['funding_rounds',\n",
       " 'milestones',\n",
       " 'relationships',\n",
       " 'lat',\n",
       " 'activeDays',\n",
       " 'acquired',\n",
       " 'closed',\n",
       " 'ipo',\n",
       " 'operating',\n",
       " 'USA']"
      ]
     },
     "execution_count": 21,
     "metadata": {},
     "output_type": "execute_result"
    }
   ],
   "source": [
    "lr= LogisticRegression(penalty='l1', solver='liblinear', max_iter=50000)\n",
    "embedded_lr_selector = SelectFromModel(lr, max_features=30)\n",
    "embedded_lr_selector = embedded_lr_selector.fit(X,y)\n",
    "embedded_lr_support = embedded_lr_selector.get_support()\n",
    "embedded_lr_support\n",
    "embedded_lr_features = X.loc[:, embedded_lr_support].columns.tolist()\n",
    "embedded_lr_features"
   ]
  },
  {
   "cell_type": "code",
   "execution_count": 22,
   "id": "5cf3bb04",
   "metadata": {},
   "outputs": [],
   "source": [
    "def embedded_log_reg_selector(X, y, num_feats):\n",
    "    # Your code goes here (Multiple lines)\n",
    "    embedded_lr_support = embedded_lr_selector.get_support()\n",
    "    embedded_lr_features = X.loc[:, embedded_lr_support].columns.tolist()\n",
    "\n",
    "    # Your code ends here\n",
    "    return embedded_lr_support, embedded_lr_features"
   ]
  },
  {
   "cell_type": "code",
   "execution_count": 23,
   "id": "ec7f577c",
   "metadata": {},
   "outputs": [
    {
     "name": "stdout",
     "output_type": "stream",
     "text": [
      "10 selected features\n"
     ]
    }
   ],
   "source": [
    "embedded_lr_support, embedded_lr_features = embedded_log_reg_selector(X, y, num_feats)\n",
    "print(str(len(embedded_lr_features)), 'selected features')"
   ]
  },
  {
   "cell_type": "code",
   "execution_count": 24,
   "id": "27f68fd9",
   "metadata": {},
   "outputs": [
    {
     "data": {
      "text/plain": [
       "['funding_rounds',\n",
       " 'milestones',\n",
       " 'relationships',\n",
       " 'lat',\n",
       " 'activeDays',\n",
       " 'acquired',\n",
       " 'closed',\n",
       " 'ipo',\n",
       " 'operating',\n",
       " 'USA']"
      ]
     },
     "execution_count": 24,
     "metadata": {},
     "output_type": "execute_result"
    }
   ],
   "source": [
    "embedded_lr_features"
   ]
  },
  {
   "cell_type": "markdown",
   "id": "2dbb9432",
   "metadata": {},
   "source": [
    "# Tree based(Random Forest): SelectFromModel"
   ]
  },
  {
   "cell_type": "code",
   "execution_count": 26,
   "id": "16d5300b",
   "metadata": {},
   "outputs": [],
   "source": [
    "from sklearn.feature_selection import SelectFromModel\n",
    "from sklearn.ensemble import RandomForestClassifier"
   ]
  },
  {
   "cell_type": "code",
   "execution_count": 27,
   "id": "682ff930",
   "metadata": {},
   "outputs": [],
   "source": [
    "rf = RandomForestClassifier(n_estimators=100)"
   ]
  },
  {
   "cell_type": "code",
   "execution_count": 28,
   "id": "eaa5ff8f",
   "metadata": {},
   "outputs": [
    {
     "data": {
      "text/plain": [
       "SelectFromModel(estimator=RandomForestClassifier(), max_features=24)"
      ]
     },
     "execution_count": 28,
     "metadata": {},
     "output_type": "execute_result"
    }
   ],
   "source": [
    "embedded_rf_selector = SelectFromModel(rf, max_features=24)\n",
    "embedded_rf_selector"
   ]
  },
  {
   "cell_type": "code",
   "execution_count": 29,
   "id": "bcad75f2",
   "metadata": {},
   "outputs": [
    {
     "data": {
      "text/plain": [
       "SelectFromModel(estimator=RandomForestClassifier(), max_features=24)"
      ]
     },
     "execution_count": 29,
     "metadata": {},
     "output_type": "execute_result"
    }
   ],
   "source": [
    "embedded_rf_selector1 = embedded_rf_selector.fit(X,y)\n",
    "embedded_rf_selector1"
   ]
  },
  {
   "cell_type": "code",
   "execution_count": 30,
   "id": "e4021040",
   "metadata": {},
   "outputs": [
    {
     "data": {
      "text/plain": [
       "array([False, False, False, False, False, False, False, False, False,\n",
       "       False, False, False, False, False, False, False, False, False,\n",
       "       False, False, False, False,  True,  True,  True,  True, False,\n",
       "       False, False, False, False, False, False, False, False, False])"
      ]
     },
     "execution_count": 30,
     "metadata": {},
     "output_type": "execute_result"
    }
   ],
   "source": [
    "embedded_rf_support = embedded_rf_selector1.get_support()\n",
    "embedded_rf_support"
   ]
  },
  {
   "cell_type": "code",
   "execution_count": 31,
   "id": "78ebd4bb",
   "metadata": {},
   "outputs": [
    {
     "data": {
      "text/plain": [
       "['acquired', 'closed', 'ipo', 'operating']"
      ]
     },
     "execution_count": 31,
     "metadata": {},
     "output_type": "execute_result"
    }
   ],
   "source": [
    "embedded_rf_features = X.loc[:, embedded_rf_support].columns.tolist()\n",
    "embedded_rf_features"
   ]
  },
  {
   "cell_type": "code",
   "execution_count": 32,
   "id": "d581e376",
   "metadata": {},
   "outputs": [],
   "source": [
    "def embedded_rf_selector(X, y, num_feats):\n",
    "    # Your code goes here (Multiple lines)\n",
    "    \n",
    "    embedded_rf_support = embedded_rf_selector1.get_support()\n",
    "\n",
    "    embedded_rf_feature = X.loc[:, embedded_rf_support].columns.tolist()\n",
    "    # Your code ends here\n",
    "    return embedded_rf_support, embedded_rf_feature"
   ]
  },
  {
   "cell_type": "code",
   "execution_count": 33,
   "id": "85684353",
   "metadata": {},
   "outputs": [
    {
     "name": "stdout",
     "output_type": "stream",
     "text": [
      "4 selected features\n"
     ]
    }
   ],
   "source": [
    "embedded_rf_support, embedded_rf_feature = embedded_rf_selector(X, y, num_feats)\n",
    "print(str(len(embedded_rf_feature)), 'selected features')"
   ]
  },
  {
   "cell_type": "code",
   "execution_count": 34,
   "id": "a7eaee8b",
   "metadata": {},
   "outputs": [
    {
     "data": {
      "text/plain": [
       "['acquired', 'closed', 'ipo', 'operating']"
      ]
     },
     "execution_count": 34,
     "metadata": {},
     "output_type": "execute_result"
    }
   ],
   "source": [
    "embedded_rf_features"
   ]
  },
  {
   "cell_type": "code",
   "execution_count": 35,
   "id": "c479c719",
   "metadata": {},
   "outputs": [
    {
     "name": "stderr",
     "output_type": "stream",
     "text": [
      "D:\\anaconda3\\lib\\site-packages\\numpy\\core\\fromnumeric.py:85: FutureWarning: Dropping of nuisance columns in DataFrame reductions (with 'numeric_only=None') is deprecated; in a future version this will raise TypeError.  Select only valid columns before calling the reduction.\n",
      "  return reduction(axis=axis, out=out, **passkwargs)\n"
     ]
    }
   ],
   "source": [
    "pd.set_option('display.max_rows', None)\n",
    "# put all selection together\n",
    "feature_selection_df = pd.DataFrame({'Feature':feature_name, 'Pearson':cor_support,'Logistics':embedded_lr_support,\n",
    "                                    'Random Forest':embedded_rf_support})\n",
    "# count the selected times for each feature\n",
    "feature_selection_df['Total'] = np.sum(feature_selection_df, axis=1)\n",
    "# display the top 100\n",
    "feature_selection_df = feature_selection_df.sort_values(['Total','Feature'] , ascending=False)\n",
    "feature_selection_df.index = range(1, len(feature_selection_df)+1)\n",
    "df_new=feature_selection_df.head(num_feats)"
   ]
  },
  {
   "cell_type": "code",
   "execution_count": 36,
   "id": "7d9f7218",
   "metadata": {},
   "outputs": [
    {
     "data": {
      "text/html": [
       "<div>\n",
       "<style scoped>\n",
       "    .dataframe tbody tr th:only-of-type {\n",
       "        vertical-align: middle;\n",
       "    }\n",
       "\n",
       "    .dataframe tbody tr th {\n",
       "        vertical-align: top;\n",
       "    }\n",
       "\n",
       "    .dataframe thead th {\n",
       "        text-align: right;\n",
       "    }\n",
       "</style>\n",
       "<table border=\"1\" class=\"dataframe\">\n",
       "  <thead>\n",
       "    <tr style=\"text-align: right;\">\n",
       "      <th></th>\n",
       "      <th>Feature</th>\n",
       "      <th>Pearson</th>\n",
       "      <th>Logistics</th>\n",
       "      <th>Random Forest</th>\n",
       "      <th>Total</th>\n",
       "    </tr>\n",
       "  </thead>\n",
       "  <tbody>\n",
       "    <tr>\n",
       "      <th>1</th>\n",
       "      <td>operating</td>\n",
       "      <td>True</td>\n",
       "      <td>True</td>\n",
       "      <td>True</td>\n",
       "      <td>3</td>\n",
       "    </tr>\n",
       "    <tr>\n",
       "      <th>2</th>\n",
       "      <td>ipo</td>\n",
       "      <td>True</td>\n",
       "      <td>True</td>\n",
       "      <td>True</td>\n",
       "      <td>3</td>\n",
       "    </tr>\n",
       "    <tr>\n",
       "      <th>3</th>\n",
       "      <td>closed</td>\n",
       "      <td>True</td>\n",
       "      <td>True</td>\n",
       "      <td>True</td>\n",
       "      <td>3</td>\n",
       "    </tr>\n",
       "    <tr>\n",
       "      <th>4</th>\n",
       "      <td>acquired</td>\n",
       "      <td>True</td>\n",
       "      <td>True</td>\n",
       "      <td>True</td>\n",
       "      <td>3</td>\n",
       "    </tr>\n",
       "    <tr>\n",
       "      <th>5</th>\n",
       "      <td>relationships</td>\n",
       "      <td>True</td>\n",
       "      <td>True</td>\n",
       "      <td>False</td>\n",
       "      <td>2</td>\n",
       "    </tr>\n",
       "    <tr>\n",
       "      <th>6</th>\n",
       "      <td>milestones</td>\n",
       "      <td>True</td>\n",
       "      <td>True</td>\n",
       "      <td>False</td>\n",
       "      <td>2</td>\n",
       "    </tr>\n",
       "    <tr>\n",
       "      <th>7</th>\n",
       "      <td>lat</td>\n",
       "      <td>True</td>\n",
       "      <td>True</td>\n",
       "      <td>False</td>\n",
       "      <td>2</td>\n",
       "    </tr>\n",
       "    <tr>\n",
       "      <th>8</th>\n",
       "      <td>funding_rounds</td>\n",
       "      <td>True</td>\n",
       "      <td>True</td>\n",
       "      <td>False</td>\n",
       "      <td>2</td>\n",
       "    </tr>\n",
       "    <tr>\n",
       "      <th>9</th>\n",
       "      <td>activeDays</td>\n",
       "      <td>True</td>\n",
       "      <td>True</td>\n",
       "      <td>False</td>\n",
       "      <td>2</td>\n",
       "    </tr>\n",
       "    <tr>\n",
       "      <th>10</th>\n",
       "      <td>USA</td>\n",
       "      <td>True</td>\n",
       "      <td>True</td>\n",
       "      <td>False</td>\n",
       "      <td>2</td>\n",
       "    </tr>\n",
       "    <tr>\n",
       "      <th>11</th>\n",
       "      <td>web</td>\n",
       "      <td>True</td>\n",
       "      <td>False</td>\n",
       "      <td>False</td>\n",
       "      <td>1</td>\n",
       "    </tr>\n",
       "    <tr>\n",
       "      <th>12</th>\n",
       "      <td>software</td>\n",
       "      <td>True</td>\n",
       "      <td>False</td>\n",
       "      <td>False</td>\n",
       "      <td>1</td>\n",
       "    </tr>\n",
       "    <tr>\n",
       "      <th>13</th>\n",
       "      <td>search</td>\n",
       "      <td>True</td>\n",
       "      <td>False</td>\n",
       "      <td>False</td>\n",
       "      <td>1</td>\n",
       "    </tr>\n",
       "    <tr>\n",
       "      <th>14</th>\n",
       "      <td>public_relations</td>\n",
       "      <td>True</td>\n",
       "      <td>False</td>\n",
       "      <td>False</td>\n",
       "      <td>1</td>\n",
       "    </tr>\n",
       "    <tr>\n",
       "      <th>15</th>\n",
       "      <td>other.1</td>\n",
       "      <td>True</td>\n",
       "      <td>False</td>\n",
       "      <td>False</td>\n",
       "      <td>1</td>\n",
       "    </tr>\n",
       "    <tr>\n",
       "      <th>16</th>\n",
       "      <td>other</td>\n",
       "      <td>True</td>\n",
       "      <td>False</td>\n",
       "      <td>False</td>\n",
       "      <td>1</td>\n",
       "    </tr>\n",
       "    <tr>\n",
       "      <th>17</th>\n",
       "      <td>network_hosting</td>\n",
       "      <td>True</td>\n",
       "      <td>False</td>\n",
       "      <td>False</td>\n",
       "      <td>1</td>\n",
       "    </tr>\n",
       "    <tr>\n",
       "      <th>18</th>\n",
       "      <td>mobile</td>\n",
       "      <td>True</td>\n",
       "      <td>False</td>\n",
       "      <td>False</td>\n",
       "      <td>1</td>\n",
       "    </tr>\n",
       "    <tr>\n",
       "      <th>19</th>\n",
       "      <td>lng</td>\n",
       "      <td>True</td>\n",
       "      <td>False</td>\n",
       "      <td>False</td>\n",
       "      <td>1</td>\n",
       "    </tr>\n",
       "    <tr>\n",
       "      <th>20</th>\n",
       "      <td>hardware</td>\n",
       "      <td>True</td>\n",
       "      <td>False</td>\n",
       "      <td>False</td>\n",
       "      <td>1</td>\n",
       "    </tr>\n",
       "    <tr>\n",
       "      <th>21</th>\n",
       "      <td>games_video</td>\n",
       "      <td>True</td>\n",
       "      <td>False</td>\n",
       "      <td>False</td>\n",
       "      <td>1</td>\n",
       "    </tr>\n",
       "    <tr>\n",
       "      <th>22</th>\n",
       "      <td>funding_total_usd</td>\n",
       "      <td>True</td>\n",
       "      <td>False</td>\n",
       "      <td>False</td>\n",
       "      <td>1</td>\n",
       "    </tr>\n",
       "    <tr>\n",
       "      <th>23</th>\n",
       "      <td>enterprise</td>\n",
       "      <td>True</td>\n",
       "      <td>False</td>\n",
       "      <td>False</td>\n",
       "      <td>1</td>\n",
       "    </tr>\n",
       "    <tr>\n",
       "      <th>24</th>\n",
       "      <td>education</td>\n",
       "      <td>True</td>\n",
       "      <td>False</td>\n",
       "      <td>False</td>\n",
       "      <td>1</td>\n",
       "    </tr>\n",
       "    <tr>\n",
       "      <th>25</th>\n",
       "      <td>ecommerce</td>\n",
       "      <td>True</td>\n",
       "      <td>False</td>\n",
       "      <td>False</td>\n",
       "      <td>1</td>\n",
       "    </tr>\n",
       "  </tbody>\n",
       "</table>\n",
       "</div>"
      ],
      "text/plain": [
       "              Feature  Pearson  Logistics  Random Forest  Total\n",
       "1           operating     True       True           True      3\n",
       "2                 ipo     True       True           True      3\n",
       "3              closed     True       True           True      3\n",
       "4            acquired     True       True           True      3\n",
       "5       relationships     True       True          False      2\n",
       "6          milestones     True       True          False      2\n",
       "7                 lat     True       True          False      2\n",
       "8      funding_rounds     True       True          False      2\n",
       "9          activeDays     True       True          False      2\n",
       "10                USA     True       True          False      2\n",
       "11                web     True      False          False      1\n",
       "12           software     True      False          False      1\n",
       "13             search     True      False          False      1\n",
       "14   public_relations     True      False          False      1\n",
       "15            other.1     True      False          False      1\n",
       "16              other     True      False          False      1\n",
       "17    network_hosting     True      False          False      1\n",
       "18             mobile     True      False          False      1\n",
       "19                lng     True      False          False      1\n",
       "20           hardware     True      False          False      1\n",
       "21        games_video     True      False          False      1\n",
       "22  funding_total_usd     True      False          False      1\n",
       "23         enterprise     True      False          False      1\n",
       "24          education     True      False          False      1\n",
       "25          ecommerce     True      False          False      1"
      ]
     },
     "execution_count": 36,
     "metadata": {},
     "output_type": "execute_result"
    }
   ],
   "source": [
    "df_new"
   ]
  },
  {
   "cell_type": "code",
   "execution_count": 37,
   "id": "7c8a3943",
   "metadata": {},
   "outputs": [
    {
     "name": "stdout",
     "output_type": "stream",
     "text": [
      "Converting name to list:\n"
     ]
    },
    {
     "data": {
      "text/plain": [
       "['operating',\n",
       " 'ipo',\n",
       " 'closed',\n",
       " 'acquired',\n",
       " 'relationships',\n",
       " 'milestones',\n",
       " 'lat',\n",
       " 'funding_rounds',\n",
       " 'activeDays',\n",
       " 'USA',\n",
       " 'web',\n",
       " 'software',\n",
       " 'search',\n",
       " 'public_relations',\n",
       " 'other.1',\n",
       " 'other',\n",
       " 'network_hosting',\n",
       " 'mobile',\n",
       " 'lng',\n",
       " 'hardware',\n",
       " 'games_video',\n",
       " 'funding_total_usd',\n",
       " 'enterprise',\n",
       " 'education',\n",
       " 'ecommerce']"
      ]
     },
     "execution_count": 37,
     "metadata": {},
     "output_type": "execute_result"
    }
   ],
   "source": [
    "Name_list = df_new[\"Feature\"].tolist()\n",
    "  \n",
    "print(\"Converting name to list:\")\n",
    "  \n",
    "# displaying list\n",
    "Name_list"
   ]
  },
  {
   "cell_type": "code",
   "execution_count": 41,
   "id": "8635ff75",
   "metadata": {},
   "outputs": [],
   "source": [
    "data_new =data.filter(['operating',\n",
    " 'ipo',\n",
    " 'closed',\n",
    " 'acquired',\n",
    " 'relationships',\n",
    " 'milestones',\n",
    " 'lat',\n",
    " 'funding_rounds',\n",
    " 'activeDays',\n",
    " 'USA',\n",
    " 'web',\n",
    " 'software',\n",
    " 'search',\n",
    " 'public_relations',\n",
    " 'other.1',\n",
    " 'other',\n",
    " 'network_hosting',\n",
    " 'mobile',\n",
    " 'lng',\n",
    " 'hardware',\n",
    " 'games_video',\n",
    " 'funding_total_usd',\n",
    " 'enterprise',\n",
    " 'education',\n",
    " 'ecommerce','isClose'])"
   ]
  },
  {
   "cell_type": "code",
   "execution_count": 42,
   "id": "9adb44c8",
   "metadata": {},
   "outputs": [],
   "source": [
    "data_new.to_csv('startup_data.csv', index=False)\n"
   ]
  },
  {
   "cell_type": "code",
   "execution_count": 44,
   "id": "9295d4ad",
   "metadata": {},
   "outputs": [],
   "source": [
    "from sklearn.model_selection import train_test_split\n",
    "\n",
    "y=data_new[\"isClose\"].copy()\n",
    "X=data_new.drop('isClose',axis=1).copy()\n",
    "X_train,X_test,y_train,y_test=train_test_split(X,y,train_size=0.8,shuffle=True,random_state=123)"
   ]
  },
  {
   "cell_type": "code",
   "execution_count": 45,
   "id": "4d10c882",
   "metadata": {},
   "outputs": [
    {
     "data": {
      "text/plain": [
       "0    58050\n",
       "1     5525\n",
       "Name: isClose, dtype: int64"
      ]
     },
     "execution_count": 45,
     "metadata": {},
     "output_type": "execute_result"
    }
   ],
   "source": [
    "data_new['isClose'].value_counts()\n"
   ]
  },
  {
   "cell_type": "code",
   "execution_count": 46,
   "id": "a7b8760a",
   "metadata": {},
   "outputs": [
    {
     "name": "stderr",
     "output_type": "stream",
     "text": [
      "D:\\anaconda3\\lib\\site-packages\\seaborn\\_decorators.py:36: FutureWarning: Pass the following variable as a keyword arg: x. From version 0.12, the only valid positional argument will be `data`, and passing other arguments without an explicit keyword will result in an error or misinterpretation.\n",
      "  warnings.warn(\n"
     ]
    },
    {
     "data": {
      "text/plain": [
       "<AxesSubplot:xlabel='isClose', ylabel='count'>"
      ]
     },
     "execution_count": 46,
     "metadata": {},
     "output_type": "execute_result"
    },
    {
     "data": {
      "image/png": "[encoded data removed]",
      "text/plain": [
       "<Figure size 432x288 with 1 Axes>"
      ]
     },
     "metadata": {
      "needs_background": "light"
     },
     "output_type": "display_data"
    }
   ],
   "source": [
    "sns.countplot(data_new['isClose'])"
   ]
  },
  {
   "cell_type": "code",
   "execution_count": 47,
   "id": "210cc128",
   "metadata": {},
   "outputs": [],
   "source": [
    "from imblearn.over_sampling import RandomOverSampler\n",
    "os=RandomOverSampler(sampling_strategy='all')\n"
   ]
  },
  {
   "cell_type": "code",
   "execution_count": 48,
   "id": "6c497cf9",
   "metadata": {},
   "outputs": [],
   "source": [
    "X_train_res,y_train_res=os.fit_resample(X_train,y_train)\n"
   ]
  },
  {
   "cell_type": "code",
   "execution_count": 49,
   "id": "225ec5e8",
   "metadata": {},
   "outputs": [
    {
     "name": "stdout",
     "output_type": "stream",
     "text": [
      "Resampled dataset shape Counter({0: 46424, 1: 46424})\n"
     ]
    }
   ],
   "source": [
    "from collections import Counter\n",
    "print('Resampled dataset shape %s' % Counter(y_train_res))"
   ]
  },
  {
   "cell_type": "code",
   "execution_count": 50,
   "id": "c3e2814a",
   "metadata": {},
   "outputs": [
    {
     "data": {
      "image/png": "[encoded data removed]",
      "text/plain": [
       "<Figure size 432x288 with 1 Axes>"
      ]
     },
     "metadata": {},
     "output_type": "display_data"
    }
   ],
   "source": [
    "ax=  y_train_res.value_counts().plot.pie(autopct='%.2f')"
   ]
  },
  {
   "cell_type": "code",
   "execution_count": 51,
   "id": "fe3674cd",
   "metadata": {},
   "outputs": [],
   "source": [
    "#Logistic Regression\n",
    "\n",
    "\n",
    "# model building\n",
    "from sklearn.linear_model import LogisticRegression\n",
    "import numpy as np\n",
    "from sklearn.model_selection import GridSearchCV"
   ]
  },
  {
   "cell_type": "code",
   "execution_count": 52,
   "id": "5de7ea98",
   "metadata": {},
   "outputs": [
    {
     "name": "stdout",
     "output_type": "stream",
     "text": [
      "0.08564687377113646\n",
      "0.5\n"
     ]
    }
   ],
   "source": [
    "model = LogisticRegression()\n",
    "\n",
    "model.fit(X_train_res, y_train_res)\n",
    "\n",
    "print(model.score(X_test, y_test))\n",
    "print(model.score(X_train_res, y_train_res))"
   ]
  },
  {
   "cell_type": "code",
   "execution_count": 54,
   "id": "9bd60986",
   "metadata": {},
   "outputs": [],
   "source": [
    "lr_predictions=model.predict(X_test)"
   ]
  },
  {
   "cell_type": "code",
   "execution_count": 55,
   "id": "b3c5d4d7",
   "metadata": {},
   "outputs": [
    {
     "data": {
      "text/plain": [
       "array([[    0, 11626],\n",
       "       [    0,  1089]], dtype=int64)"
      ]
     },
     "execution_count": 55,
     "metadata": {},
     "output_type": "execute_result"
    }
   ],
   "source": [
    "from sklearn.metrics import confusion_matrix\n",
    "confusion_matrix(y_test,lr_predictions)"
   ]
  },
  {
   "cell_type": "code",
   "execution_count": 59,
   "id": "7bb3676a",
   "metadata": {},
   "outputs": [
    {
     "name": "stdout",
     "output_type": "stream",
     "text": [
      "              precision    recall  f1-score   support\n",
      "\n",
      "           0       0.00      0.00      0.00     11626\n",
      "           1       0.09      1.00      0.16      1089\n",
      "\n",
      "    accuracy                           0.09     12715\n",
      "   macro avg       0.04      0.50      0.08     12715\n",
      "weighted avg       0.01      0.09      0.01     12715\n",
      "\n"
     ]
    },
    {
     "name": "stderr",
     "output_type": "stream",
     "text": [
      "D:\\anaconda3\\lib\\site-packages\\sklearn\\metrics\\_classification.py:1318: UndefinedMetricWarning: Precision and F-score are ill-defined and being set to 0.0 in labels with no predicted samples. Use `zero_division` parameter to control this behavior.\n",
      "  _warn_prf(average, modifier, msg_start, len(result))\n",
      "D:\\anaconda3\\lib\\site-packages\\sklearn\\metrics\\_classification.py:1318: UndefinedMetricWarning: Precision and F-score are ill-defined and being set to 0.0 in labels with no predicted samples. Use `zero_division` parameter to control this behavior.\n",
      "  _warn_prf(average, modifier, msg_start, len(result))\n",
      "D:\\anaconda3\\lib\\site-packages\\sklearn\\metrics\\_classification.py:1318: UndefinedMetricWarning: Precision and F-score are ill-defined and being set to 0.0 in labels with no predicted samples. Use `zero_division` parameter to control this behavior.\n",
      "  _warn_prf(average, modifier, msg_start, len(result))\n"
     ]
    }
   ],
   "source": [
    "from sklearn.metrics import classification_report\n",
    "print(classification_report(y_test,lr_predictions ))"
   ]
  },
  {
   "cell_type": "code",
   "execution_count": 53,
   "id": "20151553",
   "metadata": {},
   "outputs": [],
   "source": [
    "#Logistics Regression with GridSearchCv"
   ]
  },
  {
   "cell_type": "code",
   "execution_count": 62,
   "id": "38633aa4",
   "metadata": {},
   "outputs": [
    {
     "name": "stderr",
     "output_type": "stream",
     "text": [
      "D:\\anaconda3\\lib\\site-packages\\scipy\\optimize\\linesearch.py:478: LineSearchWarning: The line search algorithm did not converge\n",
      "  warn('The line search algorithm did not converge', LineSearchWarning)\n",
      "D:\\anaconda3\\lib\\site-packages\\scipy\\optimize\\linesearch.py:327: LineSearchWarning: The line search algorithm did not converge\n",
      "  warn('The line search algorithm did not converge', LineSearchWarning)\n",
      "D:\\anaconda3\\lib\\site-packages\\scipy\\optimize\\linesearch.py:478: LineSearchWarning: The line search algorithm did not converge\n",
      "  warn('The line search algorithm did not converge', LineSearchWarning)\n",
      "D:\\anaconda3\\lib\\site-packages\\scipy\\optimize\\linesearch.py:327: LineSearchWarning: The line search algorithm did not converge\n",
      "  warn('The line search algorithm did not converge', LineSearchWarning)\n",
      "D:\\anaconda3\\lib\\site-packages\\scipy\\optimize\\linesearch.py:478: LineSearchWarning: The line search algorithm did not converge\n",
      "  warn('The line search algorithm did not converge', LineSearchWarning)\n",
      "D:\\anaconda3\\lib\\site-packages\\scipy\\optimize\\linesearch.py:327: LineSearchWarning: The line search algorithm did not converge\n",
      "  warn('The line search algorithm did not converge', LineSearchWarning)\n",
      "D:\\anaconda3\\lib\\site-packages\\scipy\\optimize\\linesearch.py:478: LineSearchWarning: The line search algorithm did not converge\n",
      "  warn('The line search algorithm did not converge', LineSearchWarning)\n",
      "D:\\anaconda3\\lib\\site-packages\\scipy\\optimize\\linesearch.py:327: LineSearchWarning: The line search algorithm did not converge\n",
      "  warn('The line search algorithm did not converge', LineSearchWarning)\n",
      "D:\\anaconda3\\lib\\site-packages\\scipy\\optimize\\linesearch.py:478: LineSearchWarning: The line search algorithm did not converge\n",
      "  warn('The line search algorithm did not converge', LineSearchWarning)\n",
      "D:\\anaconda3\\lib\\site-packages\\scipy\\optimize\\linesearch.py:327: LineSearchWarning: The line search algorithm did not converge\n",
      "  warn('The line search algorithm did not converge', LineSearchWarning)\n",
      "D:\\anaconda3\\lib\\site-packages\\scipy\\optimize\\linesearch.py:478: LineSearchWarning: The line search algorithm did not converge\n",
      "  warn('The line search algorithm did not converge', LineSearchWarning)\n",
      "D:\\anaconda3\\lib\\site-packages\\scipy\\optimize\\linesearch.py:327: LineSearchWarning: The line search algorithm did not converge\n",
      "  warn('The line search algorithm did not converge', LineSearchWarning)\n",
      "D:\\anaconda3\\lib\\site-packages\\scipy\\optimize\\linesearch.py:478: LineSearchWarning: The line search algorithm did not converge\n",
      "  warn('The line search algorithm did not converge', LineSearchWarning)\n",
      "D:\\anaconda3\\lib\\site-packages\\scipy\\optimize\\linesearch.py:327: LineSearchWarning: The line search algorithm did not converge\n",
      "  warn('The line search algorithm did not converge', LineSearchWarning)\n",
      "D:\\anaconda3\\lib\\site-packages\\scipy\\optimize\\linesearch.py:478: LineSearchWarning: The line search algorithm did not converge\n",
      "  warn('The line search algorithm did not converge', LineSearchWarning)\n",
      "D:\\anaconda3\\lib\\site-packages\\scipy\\optimize\\linesearch.py:327: LineSearchWarning: The line search algorithm did not converge\n",
      "  warn('The line search algorithm did not converge', LineSearchWarning)\n",
      "D:\\anaconda3\\lib\\site-packages\\scipy\\optimize\\linesearch.py:478: LineSearchWarning: The line search algorithm did not converge\n",
      "  warn('The line search algorithm did not converge', LineSearchWarning)\n",
      "D:\\anaconda3\\lib\\site-packages\\scipy\\optimize\\linesearch.py:327: LineSearchWarning: The line search algorithm did not converge\n",
      "  warn('The line search algorithm did not converge', LineSearchWarning)\n",
      "D:\\anaconda3\\lib\\site-packages\\scipy\\optimize\\linesearch.py:478: LineSearchWarning: The line search algorithm did not converge\n",
      "  warn('The line search algorithm did not converge', LineSearchWarning)\n",
      "D:\\anaconda3\\lib\\site-packages\\scipy\\optimize\\linesearch.py:327: LineSearchWarning: The line search algorithm did not converge\n",
      "  warn('The line search algorithm did not converge', LineSearchWarning)\n",
      "D:\\anaconda3\\lib\\site-packages\\scipy\\optimize\\linesearch.py:478: LineSearchWarning: The line search algorithm did not converge\n",
      "  warn('The line search algorithm did not converge', LineSearchWarning)\n",
      "D:\\anaconda3\\lib\\site-packages\\scipy\\optimize\\linesearch.py:327: LineSearchWarning: The line search algorithm did not converge\n",
      "  warn('The line search algorithm did not converge', LineSearchWarning)\n",
      "D:\\anaconda3\\lib\\site-packages\\scipy\\optimize\\linesearch.py:478: LineSearchWarning: The line search algorithm did not converge\n",
      "  warn('The line search algorithm did not converge', LineSearchWarning)\n",
      "D:\\anaconda3\\lib\\site-packages\\scipy\\optimize\\linesearch.py:327: LineSearchWarning: The line search algorithm did not converge\n",
      "  warn('The line search algorithm did not converge', LineSearchWarning)\n",
      "D:\\anaconda3\\lib\\site-packages\\scipy\\optimize\\linesearch.py:478: LineSearchWarning: The line search algorithm did not converge\n",
      "  warn('The line search algorithm did not converge', LineSearchWarning)\n",
      "D:\\anaconda3\\lib\\site-packages\\scipy\\optimize\\linesearch.py:327: LineSearchWarning: The line search algorithm did not converge\n",
      "  warn('The line search algorithm did not converge', LineSearchWarning)\n",
      "D:\\anaconda3\\lib\\site-packages\\scipy\\optimize\\linesearch.py:478: LineSearchWarning: The line search algorithm did not converge\n",
      "  warn('The line search algorithm did not converge', LineSearchWarning)\n",
      "D:\\anaconda3\\lib\\site-packages\\scipy\\optimize\\linesearch.py:327: LineSearchWarning: The line search algorithm did not converge\n",
      "  warn('The line search algorithm did not converge', LineSearchWarning)\n",
      "D:\\anaconda3\\lib\\site-packages\\scipy\\optimize\\linesearch.py:478: LineSearchWarning: The line search algorithm did not converge\n",
      "  warn('The line search algorithm did not converge', LineSearchWarning)\n",
      "D:\\anaconda3\\lib\\site-packages\\scipy\\optimize\\linesearch.py:327: LineSearchWarning: The line search algorithm did not converge\n",
      "  warn('The line search algorithm did not converge', LineSearchWarning)\n",
      "D:\\anaconda3\\lib\\site-packages\\scipy\\optimize\\linesearch.py:478: LineSearchWarning: The line search algorithm did not converge\n",
      "  warn('The line search algorithm did not converge', LineSearchWarning)\n",
      "D:\\anaconda3\\lib\\site-packages\\scipy\\optimize\\linesearch.py:327: LineSearchWarning: The line search algorithm did not converge\n",
      "  warn('The line search algorithm did not converge', LineSearchWarning)\n",
      "D:\\anaconda3\\lib\\site-packages\\sklearn\\utils\\optimize.py:210: ConvergenceWarning: newton-cg failed to converge. Increase the number of iterations.\n",
      "  warnings.warn(\n"
     ]
    }
   ],
   "source": [
    "from sklearn.model_selection import RepeatedStratifiedKFold\n",
    "# Create grid search object\n",
    "solvers = ['newton-cg', 'lbfgs', 'liblinear']\n",
    "penalty = ['l2']\n",
    "c_values = [100, 10, 1.0, 0.1, 0.01]\n",
    "# define grid search\n",
    "grid = dict(solver=solvers,penalty=penalty,C=c_values)\n",
    "cv = RepeatedStratifiedKFold(n_splits=10, n_repeats=3, random_state=1)\n",
    "grid_search = GridSearchCV(estimator=model, param_grid=grid, n_jobs=-1, cv=cv, scoring='accuracy',error_score=0)\n",
    "lg = grid_search.fit(X_train_res, y_train_res)"
   ]
  },
  {
   "cell_type": "code",
   "execution_count": 63,
   "id": "5c8d6e32",
   "metadata": {},
   "outputs": [
    {
     "data": {
      "text/plain": [
       "0.9952036307612876"
      ]
     },
     "execution_count": 63,
     "metadata": {},
     "output_type": "execute_result"
    }
   ],
   "source": [
    "lg.best_score_"
   ]
  },
  {
   "cell_type": "code",
   "execution_count": 64,
   "id": "dd8d865b",
   "metadata": {},
   "outputs": [
    {
     "data": {
      "text/plain": [
       "{'C': 100, 'penalty': 'l2', 'solver': 'newton-cg'}"
      ]
     },
     "execution_count": 64,
     "metadata": {},
     "output_type": "execute_result"
    }
   ],
   "source": [
    "lg.best_params_\n"
   ]
  },
  {
   "cell_type": "code",
   "execution_count": 65,
   "id": "4a760f8e",
   "metadata": {},
   "outputs": [
    {
     "data": {
      "text/plain": [
       "array([0, 1, 0, ..., 0, 0, 0], dtype=int64)"
      ]
     },
     "execution_count": 65,
     "metadata": {},
     "output_type": "execute_result"
    }
   ],
   "source": [
    "y_pred1 = lg.predict(X_test)\n",
    "y_pred1"
   ]
  },
  {
   "cell_type": "code",
   "execution_count": 66,
   "id": "87e123f2",
   "metadata": {},
   "outputs": [
    {
     "data": {
      "text/plain": [
       "array([[11510,   116],\n",
       "       [    0,  1089]], dtype=int64)"
      ]
     },
     "execution_count": 66,
     "metadata": {},
     "output_type": "execute_result"
    }
   ],
   "source": [
    "confusion_matrix(y_test, y_pred1)\n"
   ]
  },
  {
   "cell_type": "code",
   "execution_count": 67,
   "id": "fc56ae6c",
   "metadata": {},
   "outputs": [
    {
     "name": "stdout",
     "output_type": "stream",
     "text": [
      "              precision    recall  f1-score   support\n",
      "\n",
      "           0       1.00      0.99      0.99     11626\n",
      "           1       0.90      1.00      0.95      1089\n",
      "\n",
      "    accuracy                           0.99     12715\n",
      "   macro avg       0.95      1.00      0.97     12715\n",
      "weighted avg       0.99      0.99      0.99     12715\n",
      "\n"
     ]
    }
   ],
   "source": [
    "print(classification_report(y_test, y_pred1))"
   ]
  }
 ],
 "metadata": {
  "kernelspec": {
   "display_name": "Python 3 (ipykernel)",
   "language": "python",
   "name": "python3"
  },
  "language_info": {
   "codemirror_mode": {
    "name": "ipython",
    "version": 3
   },
   "file_extension": ".py",
   "mimetype": "text/x-python",
   "name": "python",
   "nbconvert_exporter": "python",
   "pygments_lexer": "ipython3",
   "version": "3.9.7"
  }
 },
 "nbformat": 4,
 "nbformat_minor": 5
}
