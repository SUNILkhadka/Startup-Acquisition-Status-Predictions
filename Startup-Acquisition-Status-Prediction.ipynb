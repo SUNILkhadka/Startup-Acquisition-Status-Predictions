{
 "cells": [
  {
   "cell_type": "markdown",
   "id": "80648c3e-9393-42ae-9eae-0234faa7e872",
   "metadata": {},
   "source": [
    "# Startup-Acquisition-Status-Prediction\n"
   ]
  },
  {
   "cell_type": "code",
   "execution_count": 1,
   "id": "38769433-530d-4b5d-9d8b-8a4c03fd4643",
   "metadata": {},
   "outputs": [],
   "source": [
    "import pandas as pd\n",
    "import numpy as np\n",
    "import matplotlib\n",
    "import matplotlib.pyplot as plt\n",
    "%matplotlib inline\n",
    "import seaborn as sns"
   ]
  },
  {
   "cell_type": "code",
   "execution_count": 2,
   "id": "0d694403-0be8-4136-92ca-6f5b0ddf7e54",
   "metadata": {},
   "outputs": [],
   "source": [
    "matplotlib.rcParams['figure.figsize'] = (8,5)\n",
    "pd.set_option('display.max_columns', None)"
   ]
  },
  {
   "cell_type": "code",
   "execution_count": 3,
   "id": "8480bf70-7e33-4768-8ec9-3c7b50a4b1ca",
   "metadata": {
    "tags": []
   },
   "outputs": [],
   "source": [
    "data_df = pd.read_csv('~/Documents/Internship/Startup-Acquisition-Status-Prediction/data/companies.csv')"
   ]
  },
  {
   "cell_type": "markdown",
   "id": "cb7371d1-c4b0-4db2-bdee-02ec86493630",
   "metadata": {},
   "source": [
    "# Data Cleaning"
   ]
  },
  {
   "cell_type": "markdown",
   "id": "29d5eda1-f956-4318-a4b3-390e32db6c37",
   "metadata": {},
   "source": [
    "### 1. Data Overview"
   ]
  },
  {
   "cell_type": "code",
   "execution_count": 4,
   "id": "9e9bb0a9-50f3-4880-9799-22911c87e916",
   "metadata": {},
   "outputs": [
    {
     "data": {
      "text/plain": [
       "Index(['id', 'Unnamed: 0.1', 'entity_type', 'entity_id', 'parent_id', 'name',\n",
       "       'normalized_name', 'permalink', 'category_code', 'status', 'founded_at',\n",
       "       'closed_at', 'domain', 'homepage_url', 'twitter_username', 'logo_url',\n",
       "       'logo_width', 'logo_height', 'short_description', 'description',\n",
       "       'overview', 'tag_list', 'country_code', 'state_code', 'city', 'region',\n",
       "       'first_investment_at', 'last_investment_at', 'investment_rounds',\n",
       "       'invested_companies', 'first_funding_at', 'last_funding_at',\n",
       "       'funding_rounds', 'funding_total_usd', 'first_milestone_at',\n",
       "       'last_milestone_at', 'milestones', 'relationships', 'created_by',\n",
       "       'created_at', 'updated_at', 'lat', 'lng', 'ROI'],\n",
       "      dtype='object')"
      ]
     },
     "execution_count": 4,
     "metadata": {},
     "output_type": "execute_result"
    }
   ],
   "source": [
    "data_df.columns"
   ]
  },
  {
   "cell_type": "code",
   "execution_count": 5,
   "id": "d0264643-2716-42e1-a45f-a6b4e9c4ef56",
   "metadata": {},
   "outputs": [
    {
     "data": {
      "text/html": [
       "<div>\n",
       "<style scoped>\n",
       "    .dataframe tbody tr th:only-of-type {\n",
       "        vertical-align: middle;\n",
       "    }\n",
       "\n",
       "    .dataframe tbody tr th {\n",
       "        vertical-align: top;\n",
       "    }\n",
       "\n",
       "    .dataframe thead th {\n",
       "        text-align: right;\n",
       "    }\n",
       "</style>\n",
       "<table border=\"1\" class=\"dataframe\">\n",
       "  <thead>\n",
       "    <tr style=\"text-align: right;\">\n",
       "      <th></th>\n",
       "      <th>id</th>\n",
       "      <th>Unnamed: 0.1</th>\n",
       "      <th>entity_type</th>\n",
       "      <th>entity_id</th>\n",
       "      <th>parent_id</th>\n",
       "      <th>name</th>\n",
       "      <th>normalized_name</th>\n",
       "      <th>permalink</th>\n",
       "      <th>category_code</th>\n",
       "      <th>status</th>\n",
       "      <th>founded_at</th>\n",
       "      <th>closed_at</th>\n",
       "      <th>domain</th>\n",
       "      <th>homepage_url</th>\n",
       "      <th>twitter_username</th>\n",
       "      <th>logo_url</th>\n",
       "      <th>logo_width</th>\n",
       "      <th>logo_height</th>\n",
       "      <th>short_description</th>\n",
       "      <th>description</th>\n",
       "      <th>overview</th>\n",
       "      <th>tag_list</th>\n",
       "      <th>country_code</th>\n",
       "      <th>state_code</th>\n",
       "      <th>city</th>\n",
       "      <th>region</th>\n",
       "      <th>first_investment_at</th>\n",
       "      <th>last_investment_at</th>\n",
       "      <th>investment_rounds</th>\n",
       "      <th>invested_companies</th>\n",
       "      <th>first_funding_at</th>\n",
       "      <th>last_funding_at</th>\n",
       "      <th>funding_rounds</th>\n",
       "      <th>funding_total_usd</th>\n",
       "      <th>first_milestone_at</th>\n",
       "      <th>last_milestone_at</th>\n",
       "      <th>milestones</th>\n",
       "      <th>relationships</th>\n",
       "      <th>created_by</th>\n",
       "      <th>created_at</th>\n",
       "      <th>updated_at</th>\n",
       "      <th>lat</th>\n",
       "      <th>lng</th>\n",
       "      <th>ROI</th>\n",
       "    </tr>\n",
       "  </thead>\n",
       "  <tbody>\n",
       "    <tr>\n",
       "      <th>0</th>\n",
       "      <td>c:1</td>\n",
       "      <td>0</td>\n",
       "      <td>Company</td>\n",
       "      <td>1</td>\n",
       "      <td>NaN</td>\n",
       "      <td>Wetpaint</td>\n",
       "      <td>wetpaint</td>\n",
       "      <td>/company/wetpaint</td>\n",
       "      <td>web</td>\n",
       "      <td>operating</td>\n",
       "      <td>2005-10-17</td>\n",
       "      <td>NaN</td>\n",
       "      <td>wetpaint-inc.com</td>\n",
       "      <td>http://wetpaint-inc.com</td>\n",
       "      <td>BachelrWetpaint</td>\n",
       "      <td>http://s3.amazonaws.com/crunchbase_prod_assets...</td>\n",
       "      <td>401.0</td>\n",
       "      <td>54.0</td>\n",
       "      <td>NaN</td>\n",
       "      <td>Technology Platform Company</td>\n",
       "      <td>Wetpaint is a technology platform company that...</td>\n",
       "      <td>wiki, seattle, elowitz, media-industry, media-...</td>\n",
       "      <td>USA</td>\n",
       "      <td>WA</td>\n",
       "      <td>Seattle</td>\n",
       "      <td>Seattle</td>\n",
       "      <td>NaN</td>\n",
       "      <td>NaN</td>\n",
       "      <td>NaN</td>\n",
       "      <td>NaN</td>\n",
       "      <td>2005-10-01</td>\n",
       "      <td>2008-05-19</td>\n",
       "      <td>3.0</td>\n",
       "      <td>39750000.0</td>\n",
       "      <td>2010-09-05</td>\n",
       "      <td>2013-09-18</td>\n",
       "      <td>5.0</td>\n",
       "      <td>17.0</td>\n",
       "      <td>initial-importer</td>\n",
       "      <td>2007-05-25 06:51:27</td>\n",
       "      <td>2013-04-13 03:29:00</td>\n",
       "      <td>47.606209</td>\n",
       "      <td>-122.332071</td>\n",
       "      <td>15.5</td>\n",
       "    </tr>\n",
       "    <tr>\n",
       "      <th>1</th>\n",
       "      <td>c:10</td>\n",
       "      <td>1</td>\n",
       "      <td>Company</td>\n",
       "      <td>10</td>\n",
       "      <td>NaN</td>\n",
       "      <td>Flektor</td>\n",
       "      <td>flektor</td>\n",
       "      <td>/company/flektor</td>\n",
       "      <td>games_video</td>\n",
       "      <td>acquired</td>\n",
       "      <td>NaN</td>\n",
       "      <td>NaN</td>\n",
       "      <td>flektor.com</td>\n",
       "      <td>http://www.flektor.com</td>\n",
       "      <td>NaN</td>\n",
       "      <td>http://s3.amazonaws.com/crunchbase_prod_assets...</td>\n",
       "      <td>186.0</td>\n",
       "      <td>85.0</td>\n",
       "      <td>NaN</td>\n",
       "      <td>NaN</td>\n",
       "      <td>Flektor is a rich-media mash-up platform that ...</td>\n",
       "      <td>flektor, photo, video</td>\n",
       "      <td>USA</td>\n",
       "      <td>CA</td>\n",
       "      <td>Culver City</td>\n",
       "      <td>Los Angeles</td>\n",
       "      <td>NaN</td>\n",
       "      <td>NaN</td>\n",
       "      <td>NaN</td>\n",
       "      <td>NaN</td>\n",
       "      <td>NaN</td>\n",
       "      <td>NaN</td>\n",
       "      <td>NaN</td>\n",
       "      <td>NaN</td>\n",
       "      <td>NaN</td>\n",
       "      <td>NaN</td>\n",
       "      <td>NaN</td>\n",
       "      <td>6.0</td>\n",
       "      <td>initial-importer</td>\n",
       "      <td>2007-05-31 21:11:51</td>\n",
       "      <td>2008-05-23 23:23:14</td>\n",
       "      <td>34.021122</td>\n",
       "      <td>-118.396467</td>\n",
       "      <td>NaN</td>\n",
       "    </tr>\n",
       "    <tr>\n",
       "      <th>2</th>\n",
       "      <td>c:100</td>\n",
       "      <td>2</td>\n",
       "      <td>Company</td>\n",
       "      <td>100</td>\n",
       "      <td>NaN</td>\n",
       "      <td>There</td>\n",
       "      <td>there</td>\n",
       "      <td>/company/there</td>\n",
       "      <td>games_video</td>\n",
       "      <td>acquired</td>\n",
       "      <td>NaN</td>\n",
       "      <td>NaN</td>\n",
       "      <td>there.com</td>\n",
       "      <td>http://www.there.com</td>\n",
       "      <td>NaN</td>\n",
       "      <td>http://s3.amazonaws.com/crunchbase_prod_assets...</td>\n",
       "      <td>107.0</td>\n",
       "      <td>34.0</td>\n",
       "      <td>NaN</td>\n",
       "      <td>NaN</td>\n",
       "      <td>There.com is an online virtual world where any...</td>\n",
       "      <td>virtualworld, there, teens</td>\n",
       "      <td>USA</td>\n",
       "      <td>CA</td>\n",
       "      <td>San Mateo</td>\n",
       "      <td>SF Bay</td>\n",
       "      <td>NaN</td>\n",
       "      <td>NaN</td>\n",
       "      <td>NaN</td>\n",
       "      <td>NaN</td>\n",
       "      <td>NaN</td>\n",
       "      <td>NaN</td>\n",
       "      <td>NaN</td>\n",
       "      <td>NaN</td>\n",
       "      <td>2003-02-01</td>\n",
       "      <td>2011-09-23</td>\n",
       "      <td>4.0</td>\n",
       "      <td>12.0</td>\n",
       "      <td>initial-importer</td>\n",
       "      <td>2007-08-06 23:52:45</td>\n",
       "      <td>2013-11-04 02:09:48</td>\n",
       "      <td>37.562992</td>\n",
       "      <td>-122.325525</td>\n",
       "      <td>NaN</td>\n",
       "    </tr>\n",
       "    <tr>\n",
       "      <th>3</th>\n",
       "      <td>c:10000</td>\n",
       "      <td>3</td>\n",
       "      <td>Company</td>\n",
       "      <td>10000</td>\n",
       "      <td>NaN</td>\n",
       "      <td>MYWEBBO</td>\n",
       "      <td>mywebbo</td>\n",
       "      <td>/company/mywebbo</td>\n",
       "      <td>network_hosting</td>\n",
       "      <td>operating</td>\n",
       "      <td>2008-07-26</td>\n",
       "      <td>NaN</td>\n",
       "      <td>mywebbo.com</td>\n",
       "      <td>http://www.mywebbo.com</td>\n",
       "      <td>NaN</td>\n",
       "      <td>NaN</td>\n",
       "      <td>NaN</td>\n",
       "      <td>NaN</td>\n",
       "      <td>NaN</td>\n",
       "      <td>NaN</td>\n",
       "      <td>BRAND NEW ONLINE SOCIAL NETWORKING WEBSITE,FOR...</td>\n",
       "      <td>social-network, new, website, web, friends, ch...</td>\n",
       "      <td>NaN</td>\n",
       "      <td>NaN</td>\n",
       "      <td>NaN</td>\n",
       "      <td>unknown</td>\n",
       "      <td>NaN</td>\n",
       "      <td>NaN</td>\n",
       "      <td>NaN</td>\n",
       "      <td>NaN</td>\n",
       "      <td>NaN</td>\n",
       "      <td>NaN</td>\n",
       "      <td>NaN</td>\n",
       "      <td>NaN</td>\n",
       "      <td>NaN</td>\n",
       "      <td>NaN</td>\n",
       "      <td>NaN</td>\n",
       "      <td>NaN</td>\n",
       "      <td>NaN</td>\n",
       "      <td>2008-08-24 16:51:57</td>\n",
       "      <td>2008-09-06 14:19:18</td>\n",
       "      <td>NaN</td>\n",
       "      <td>NaN</td>\n",
       "      <td>NaN</td>\n",
       "    </tr>\n",
       "    <tr>\n",
       "      <th>4</th>\n",
       "      <td>c:10001</td>\n",
       "      <td>4</td>\n",
       "      <td>Company</td>\n",
       "      <td>10001</td>\n",
       "      <td>NaN</td>\n",
       "      <td>THE Movie Streamer</td>\n",
       "      <td>the movie streamer</td>\n",
       "      <td>/company/the-movie-streamer</td>\n",
       "      <td>games_video</td>\n",
       "      <td>operating</td>\n",
       "      <td>2008-07-26</td>\n",
       "      <td>NaN</td>\n",
       "      <td>themoviestreamer.com</td>\n",
       "      <td>http://themoviestreamer.com</td>\n",
       "      <td>NaN</td>\n",
       "      <td>http://s3.amazonaws.com/crunchbase_prod_assets...</td>\n",
       "      <td>200.0</td>\n",
       "      <td>74.0</td>\n",
       "      <td>NaN</td>\n",
       "      <td>NaN</td>\n",
       "      <td>This company shows free movies online on their...</td>\n",
       "      <td>watch, full-length, moives, online, for, free,...</td>\n",
       "      <td>NaN</td>\n",
       "      <td>NaN</td>\n",
       "      <td>NaN</td>\n",
       "      <td>unknown</td>\n",
       "      <td>NaN</td>\n",
       "      <td>NaN</td>\n",
       "      <td>NaN</td>\n",
       "      <td>NaN</td>\n",
       "      <td>NaN</td>\n",
       "      <td>NaN</td>\n",
       "      <td>NaN</td>\n",
       "      <td>NaN</td>\n",
       "      <td>NaN</td>\n",
       "      <td>NaN</td>\n",
       "      <td>NaN</td>\n",
       "      <td>NaN</td>\n",
       "      <td>NaN</td>\n",
       "      <td>2008-08-24 17:10:34</td>\n",
       "      <td>2008-09-06 14:19:18</td>\n",
       "      <td>NaN</td>\n",
       "      <td>NaN</td>\n",
       "      <td>NaN</td>\n",
       "    </tr>\n",
       "  </tbody>\n",
       "</table>\n",
       "</div>"
      ],
      "text/plain": [
       "        id  Unnamed: 0.1 entity_type  entity_id  parent_id  \\\n",
       "0      c:1             0     Company          1        NaN   \n",
       "1     c:10             1     Company         10        NaN   \n",
       "2    c:100             2     Company        100        NaN   \n",
       "3  c:10000             3     Company      10000        NaN   \n",
       "4  c:10001             4     Company      10001        NaN   \n",
       "\n",
       "                 name     normalized_name                    permalink  \\\n",
       "0            Wetpaint            wetpaint            /company/wetpaint   \n",
       "1             Flektor             flektor             /company/flektor   \n",
       "2               There               there               /company/there   \n",
       "3             MYWEBBO             mywebbo             /company/mywebbo   \n",
       "4  THE Movie Streamer  the movie streamer  /company/the-movie-streamer   \n",
       "\n",
       "     category_code     status  founded_at closed_at                domain  \\\n",
       "0              web  operating  2005-10-17       NaN      wetpaint-inc.com   \n",
       "1      games_video   acquired         NaN       NaN           flektor.com   \n",
       "2      games_video   acquired         NaN       NaN             there.com   \n",
       "3  network_hosting  operating  2008-07-26       NaN           mywebbo.com   \n",
       "4      games_video  operating  2008-07-26       NaN  themoviestreamer.com   \n",
       "\n",
       "                  homepage_url twitter_username  \\\n",
       "0      http://wetpaint-inc.com  BachelrWetpaint   \n",
       "1       http://www.flektor.com              NaN   \n",
       "2         http://www.there.com              NaN   \n",
       "3       http://www.mywebbo.com              NaN   \n",
       "4  http://themoviestreamer.com              NaN   \n",
       "\n",
       "                                            logo_url  logo_width  logo_height  \\\n",
       "0  http://s3.amazonaws.com/crunchbase_prod_assets...       401.0         54.0   \n",
       "1  http://s3.amazonaws.com/crunchbase_prod_assets...       186.0         85.0   \n",
       "2  http://s3.amazonaws.com/crunchbase_prod_assets...       107.0         34.0   \n",
       "3                                                NaN         NaN          NaN   \n",
       "4  http://s3.amazonaws.com/crunchbase_prod_assets...       200.0         74.0   \n",
       "\n",
       "  short_description                  description  \\\n",
       "0               NaN  Technology Platform Company   \n",
       "1               NaN                          NaN   \n",
       "2               NaN                          NaN   \n",
       "3               NaN                          NaN   \n",
       "4               NaN                          NaN   \n",
       "\n",
       "                                            overview  \\\n",
       "0  Wetpaint is a technology platform company that...   \n",
       "1  Flektor is a rich-media mash-up platform that ...   \n",
       "2  There.com is an online virtual world where any...   \n",
       "3  BRAND NEW ONLINE SOCIAL NETWORKING WEBSITE,FOR...   \n",
       "4  This company shows free movies online on their...   \n",
       "\n",
       "                                            tag_list country_code state_code  \\\n",
       "0  wiki, seattle, elowitz, media-industry, media-...          USA         WA   \n",
       "1                              flektor, photo, video          USA         CA   \n",
       "2                         virtualworld, there, teens          USA         CA   \n",
       "3  social-network, new, website, web, friends, ch...          NaN        NaN   \n",
       "4  watch, full-length, moives, online, for, free,...          NaN        NaN   \n",
       "\n",
       "          city       region first_investment_at last_investment_at  \\\n",
       "0      Seattle      Seattle                 NaN                NaN   \n",
       "1  Culver City  Los Angeles                 NaN                NaN   \n",
       "2    San Mateo       SF Bay                 NaN                NaN   \n",
       "3          NaN      unknown                 NaN                NaN   \n",
       "4          NaN      unknown                 NaN                NaN   \n",
       "\n",
       "   investment_rounds  invested_companies first_funding_at last_funding_at  \\\n",
       "0                NaN                 NaN       2005-10-01      2008-05-19   \n",
       "1                NaN                 NaN              NaN             NaN   \n",
       "2                NaN                 NaN              NaN             NaN   \n",
       "3                NaN                 NaN              NaN             NaN   \n",
       "4                NaN                 NaN              NaN             NaN   \n",
       "\n",
       "   funding_rounds  funding_total_usd first_milestone_at last_milestone_at  \\\n",
       "0             3.0         39750000.0         2010-09-05        2013-09-18   \n",
       "1             NaN                NaN                NaN               NaN   \n",
       "2             NaN                NaN         2003-02-01        2011-09-23   \n",
       "3             NaN                NaN                NaN               NaN   \n",
       "4             NaN                NaN                NaN               NaN   \n",
       "\n",
       "   milestones  relationships        created_by           created_at  \\\n",
       "0         5.0           17.0  initial-importer  2007-05-25 06:51:27   \n",
       "1         NaN            6.0  initial-importer  2007-05-31 21:11:51   \n",
       "2         4.0           12.0  initial-importer  2007-08-06 23:52:45   \n",
       "3         NaN            NaN               NaN  2008-08-24 16:51:57   \n",
       "4         NaN            NaN               NaN  2008-08-24 17:10:34   \n",
       "\n",
       "            updated_at        lat         lng   ROI  \n",
       "0  2013-04-13 03:29:00  47.606209 -122.332071  15.5  \n",
       "1  2008-05-23 23:23:14  34.021122 -118.396467   NaN  \n",
       "2  2013-11-04 02:09:48  37.562992 -122.325525   NaN  \n",
       "3  2008-09-06 14:19:18        NaN         NaN   NaN  \n",
       "4  2008-09-06 14:19:18        NaN         NaN   NaN  "
      ]
     },
     "execution_count": 5,
     "metadata": {},
     "output_type": "execute_result"
    }
   ],
   "source": [
    "data_df.head()"
   ]
  },
  {
   "cell_type": "code",
   "execution_count": 6,
   "id": "c10b5d89-8838-4fb8-889c-5d639648b2ac",
   "metadata": {},
   "outputs": [
    {
     "name": "stdout",
     "output_type": "stream",
     "text": [
      "<class 'pandas.core.frame.DataFrame'>\n",
      "RangeIndex: 196553 entries, 0 to 196552\n",
      "Data columns (total 44 columns):\n",
      " #   Column               Non-Null Count   Dtype  \n",
      "---  ------               --------------   -----  \n",
      " 0   id                   196553 non-null  object \n",
      " 1   Unnamed: 0.1         196553 non-null  int64  \n",
      " 2   entity_type          196553 non-null  object \n",
      " 3   entity_id            196553 non-null  int64  \n",
      " 4   parent_id            0 non-null       float64\n",
      " 5   name                 196531 non-null  object \n",
      " 6   normalized_name      196527 non-null  object \n",
      " 7   permalink            196553 non-null  object \n",
      " 8   category_code        123186 non-null  object \n",
      " 9   status               196553 non-null  object \n",
      " 10  founded_at           91227 non-null   object \n",
      " 11  closed_at            2620 non-null    object \n",
      " 12  domain               126545 non-null  object \n",
      " 13  homepage_url         126545 non-null  object \n",
      " 14  twitter_username     80591 non-null   object \n",
      " 15  logo_url             110110 non-null  object \n",
      " 16  logo_width           110110 non-null  float64\n",
      " 17  logo_height          110110 non-null  float64\n",
      " 18  short_description    7131 non-null    object \n",
      " 19  description          92048 non-null   object \n",
      " 20  overview             126971 non-null  object \n",
      " 21  tag_list             81452 non-null   object \n",
      " 22  country_code         87990 non-null   object \n",
      " 23  state_code           50903 non-null   object \n",
      " 24  city                 83890 non-null   object \n",
      " 25  region               196553 non-null  object \n",
      " 26  first_investment_at  2583 non-null    object \n",
      " 27  last_investment_at   2583 non-null    object \n",
      " 28  investment_rounds    2591 non-null    float64\n",
      " 29  invested_companies   2591 non-null    float64\n",
      " 30  first_funding_at     31507 non-null   object \n",
      " 31  last_funding_at      31507 non-null   object \n",
      " 32  funding_rounds       31707 non-null   float64\n",
      " 33  funding_total_usd    27874 non-null   float64\n",
      " 34  first_milestone_at   91699 non-null   object \n",
      " 35  last_milestone_at    91699 non-null   object \n",
      " 36  milestones           91699 non-null   float64\n",
      " 37  relationships        129667 non-null  float64\n",
      " 38  created_by           155533 non-null  object \n",
      " 39  created_at           196553 non-null  object \n",
      " 40  updated_at           196553 non-null  object \n",
      " 41  lat                  83852 non-null   float64\n",
      " 42  lng                  83852 non-null   float64\n",
      " 43  ROI                  726 non-null     float64\n",
      "dtypes: float64(12), int64(2), object(30)\n",
      "memory usage: 66.0+ MB\n"
     ]
    }
   ],
   "source": [
    "data_df.info()"
   ]
  },
  {
   "cell_type": "markdown",
   "id": "8b088d83-f4ec-44c1-96d8-cf508532d28d",
   "metadata": {},
   "source": [
    "> By looking at the info and data types we can clearly see that most of the coluns contains non-unique variety of data which cannot be used in our case."
   ]
  },
  {
   "cell_type": "markdown",
   "id": "767a8cd0-5e27-424b-a52f-c984a39b2e2d",
   "metadata": {},
   "source": [
    "## 2. Dealing with unnecessary columns\n",
    "    a. Deleting 'closed_at', 'domain','homepage_url', 'twitter_username', 'logo_url', 'logo_width','logo_height',\n",
    "        'description' ,'overview','tag_list', 'state_code', 'city', 'region','created_by','created_at', 'updated_at' \n",
    "         'short_description', columns as this data contains irrelevant and redundant information"
   ]
  },
  {
   "cell_type": "code",
   "execution_count": 7,
   "id": "a5a589ba-f376-4558-93dd-3beaeb73c53d",
   "metadata": {},
   "outputs": [],
   "source": [
    "data_df.drop(data_df.columns[:8],axis=1,inplace=True)"
   ]
  },
  {
   "cell_type": "code",
   "execution_count": 8,
   "id": "a52c674d-1f61-477e-a05b-5eee4dcbb927",
   "metadata": {},
   "outputs": [],
   "source": [
    "data_df.drop(['domain','homepage_url', 'twitter_username', 'logo_url', 'logo_width',\n",
    "       'logo_height', 'short_description', 'description', 'overview','tag_list', 'state_code', 'city', 'region',\n",
    "       'created_by','created_at', 'updated_at'],axis=1,inplace=True)"
   ]
  },
  {
   "cell_type": "markdown",
   "id": "c1773238-933f-49eb-9f69-396461605c2a",
   "metadata": {},
   "source": [
    "    b. Deleting `closed_at`,`first_investment_at`,`last_investment_at`, `investment_rounds`, `invested_companies` ,`ROI` column \n",
    "        as these column contains more than 98% of null values "
   ]
  },
  {
   "cell_type": "code",
   "execution_count": 9,
   "id": "766eae96-221b-47b1-bf77-d1e32db52b04",
   "metadata": {},
   "outputs": [
    {
     "name": "stdout",
     "output_type": "stream",
     "text": [
      "Percentage of nan values in each columns:\n"
     ]
    },
    {
     "data": {
      "text/plain": [
       "category_code          37.326828\n",
       "status                  0.000000\n",
       "founded_at             53.586564\n",
       "closed_at              98.667026\n",
       "country_code           55.233448\n",
       "first_investment_at    98.685851\n",
       "last_investment_at     98.685851\n",
       "investment_rounds      98.681780\n",
       "invested_companies     98.681780\n",
       "first_funding_at       83.970227\n",
       "last_funding_at        83.970227\n",
       "funding_rounds         83.868473\n",
       "funding_total_usd      85.818583\n",
       "first_milestone_at     53.346426\n",
       "last_milestone_at      53.346426\n",
       "milestones             53.346426\n",
       "relationships          34.029498\n",
       "lat                    57.338733\n",
       "lng                    57.338733\n",
       "ROI                    99.630634\n",
       "dtype: float64"
      ]
     },
     "execution_count": 9,
     "metadata": {},
     "output_type": "execute_result"
    }
   ],
   "source": [
    "print(\"Percentage of nan values in each columns:\")\n",
    "data_df.isna().mean() * 100"
   ]
  },
  {
   "cell_type": "code",
   "execution_count": 10,
   "id": "4b046898-ac78-42d1-8bd2-0bd065195a75",
   "metadata": {},
   "outputs": [],
   "source": [
    "data_df.drop(['closed_at','first_investment_at','last_investment_at','investment_rounds','invested_companies','ROI'],axis=1,inplace=True)"
   ]
  },
  {
   "cell_type": "markdown",
   "id": "02d1e529-9a13-41f0-919d-e9cd5205b66f",
   "metadata": {},
   "source": [
    "    c. Deleting duplicate values"
   ]
  },
  {
   "cell_type": "code",
   "execution_count": 11,
   "id": "63e2f06b-9c11-4b7e-a471-ecc66e0aceb0",
   "metadata": {},
   "outputs": [],
   "source": [
    "data_df.drop(data_df[data_df.duplicated()].index,inplace=True)"
   ]
  },
  {
   "cell_type": "markdown",
   "id": "72ad51e7-cbd6-42e8-a559-9e678f072a41",
   "metadata": {},
   "source": [
    "## 3.Dealing with missing values and outliers"
   ]
  },
  {
   "cell_type": "markdown",
   "id": "0b9f1fed-313e-4d6a-a8ee-e38ec6f387c2",
   "metadata": {},
   "source": [
    "    a. Droping nan values of 'category_code','status','country_code' & 'founded_at' columns "
   ]
  },
  {
   "cell_type": "code",
   "execution_count": 12,
   "id": "bc8dfbb9-93f6-47f4-a060-4a4110f1e2a5",
   "metadata": {},
   "outputs": [],
   "source": [
    "data_df.dropna(subset=['category_code','status','country_code','founded_at'],inplace=True)"
   ]
  },
  {
   "cell_type": "markdown",
   "id": "271a8339-0e9e-4eac-a8f2-9280f2e052b4",
   "metadata": {},
   "source": [
    "    b. Removing outliers"
   ]
  },
  {
   "cell_type": "code",
   "execution_count": 13,
   "id": "759d43db-9761-4003-a99a-3d24f1b30a8d",
   "metadata": {},
   "outputs": [
    {
     "data": {
      "text/html": [
       "<div>\n",
       "<style scoped>\n",
       "    .dataframe tbody tr th:only-of-type {\n",
       "        vertical-align: middle;\n",
       "    }\n",
       "\n",
       "    .dataframe tbody tr th {\n",
       "        vertical-align: top;\n",
       "    }\n",
       "\n",
       "    .dataframe thead th {\n",
       "        text-align: right;\n",
       "    }\n",
       "</style>\n",
       "<table border=\"1\" class=\"dataframe\">\n",
       "  <thead>\n",
       "    <tr style=\"text-align: right;\">\n",
       "      <th></th>\n",
       "      <th>funding_rounds</th>\n",
       "      <th>funding_total_usd</th>\n",
       "      <th>milestones</th>\n",
       "      <th>relationships</th>\n",
       "      <th>lat</th>\n",
       "      <th>lng</th>\n",
       "    </tr>\n",
       "  </thead>\n",
       "  <tbody>\n",
       "    <tr>\n",
       "      <th>count</th>\n",
       "      <td>22889.000000</td>\n",
       "      <td>2.046700e+04</td>\n",
       "      <td>35244.000000</td>\n",
       "      <td>48295.000000</td>\n",
       "      <td>61211.000000</td>\n",
       "      <td>61211.000000</td>\n",
       "    </tr>\n",
       "    <tr>\n",
       "      <th>mean</th>\n",
       "      <td>1.805758</td>\n",
       "      <td>1.582132e+07</td>\n",
       "      <td>1.415929</td>\n",
       "      <td>4.443607</td>\n",
       "      <td>37.294084</td>\n",
       "      <td>-50.715469</td>\n",
       "    </tr>\n",
       "    <tr>\n",
       "      <th>std</th>\n",
       "      <td>1.310805</td>\n",
       "      <td>6.990693e+07</td>\n",
       "      <td>0.738596</td>\n",
       "      <td>13.267906</td>\n",
       "      <td>15.813059</td>\n",
       "      <td>70.778579</td>\n",
       "    </tr>\n",
       "    <tr>\n",
       "      <th>min</th>\n",
       "      <td>1.000000</td>\n",
       "      <td>2.910000e+02</td>\n",
       "      <td>1.000000</td>\n",
       "      <td>1.000000</td>\n",
       "      <td>-50.942326</td>\n",
       "      <td>-159.485278</td>\n",
       "    </tr>\n",
       "    <tr>\n",
       "      <th>25%</th>\n",
       "      <td>1.000000</td>\n",
       "      <td>5.110380e+05</td>\n",
       "      <td>1.000000</td>\n",
       "      <td>1.000000</td>\n",
       "      <td>34.052234</td>\n",
       "      <td>-112.033479</td>\n",
       "    </tr>\n",
       "    <tr>\n",
       "      <th>50%</th>\n",
       "      <td>1.000000</td>\n",
       "      <td>2.725875e+06</td>\n",
       "      <td>1.000000</td>\n",
       "      <td>2.000000</td>\n",
       "      <td>39.739236</td>\n",
       "      <td>-75.898684</td>\n",
       "    </tr>\n",
       "    <tr>\n",
       "      <th>75%</th>\n",
       "      <td>2.000000</td>\n",
       "      <td>1.200000e+07</td>\n",
       "      <td>2.000000</td>\n",
       "      <td>4.000000</td>\n",
       "      <td>45.420675</td>\n",
       "      <td>1.750318</td>\n",
       "    </tr>\n",
       "    <tr>\n",
       "      <th>max</th>\n",
       "      <td>15.000000</td>\n",
       "      <td>5.700000e+09</td>\n",
       "      <td>9.000000</td>\n",
       "      <td>1189.000000</td>\n",
       "      <td>77.553604</td>\n",
       "      <td>176.165130</td>\n",
       "    </tr>\n",
       "  </tbody>\n",
       "</table>\n",
       "</div>"
      ],
      "text/plain": [
       "       funding_rounds  funding_total_usd    milestones  relationships  \\\n",
       "count    22889.000000       2.046700e+04  35244.000000   48295.000000   \n",
       "mean         1.805758       1.582132e+07      1.415929       4.443607   \n",
       "std          1.310805       6.990693e+07      0.738596      13.267906   \n",
       "min          1.000000       2.910000e+02      1.000000       1.000000   \n",
       "25%          1.000000       5.110380e+05      1.000000       1.000000   \n",
       "50%          1.000000       2.725875e+06      1.000000       2.000000   \n",
       "75%          2.000000       1.200000e+07      2.000000       4.000000   \n",
       "max         15.000000       5.700000e+09      9.000000    1189.000000   \n",
       "\n",
       "                lat           lng  \n",
       "count  61211.000000  61211.000000  \n",
       "mean      37.294084    -50.715469  \n",
       "std       15.813059     70.778579  \n",
       "min      -50.942326   -159.485278  \n",
       "25%       34.052234   -112.033479  \n",
       "50%       39.739236    -75.898684  \n",
       "75%       45.420675      1.750318  \n",
       "max       77.553604    176.165130  "
      ]
     },
     "execution_count": 13,
     "metadata": {},
     "output_type": "execute_result"
    }
   ],
   "source": [
    "data_df.describe()"
   ]
  },
  {
   "cell_type": "markdown",
   "id": "2b9f7090-ba1c-4749-84d1-6c44516ee684",
   "metadata": {
    "jp-MarkdownHeadingCollapsed": true,
    "tags": []
   },
   "source": [
    "- There is great difference in minimum and maximum vaues of `funding_rounds` , `funding_total_usd` & `relationships` columns as their mean and std is so small compared to max. This is due to outlier in the dataset."
   ]
  },
  {
   "cell_type": "markdown",
   "id": "74de7823-158c-4e15-80fb-0dcab2c04817",
   "metadata": {},
   "source": [
    "> - funding_rounds"
   ]
  },
  {
   "cell_type": "code",
   "execution_count": 14,
   "id": "3b6704cb-c737-46ec-8ade-4df763128f20",
   "metadata": {},
   "outputs": [
    {
     "data": {
      "text/html": [
       "<div>\n",
       "<style scoped>\n",
       "    .dataframe tbody tr th:only-of-type {\n",
       "        vertical-align: middle;\n",
       "    }\n",
       "\n",
       "    .dataframe tbody tr th {\n",
       "        vertical-align: top;\n",
       "    }\n",
       "\n",
       "    .dataframe thead th {\n",
       "        text-align: right;\n",
       "    }\n",
       "</style>\n",
       "<table border=\"1\" class=\"dataframe\">\n",
       "  <thead>\n",
       "    <tr style=\"text-align: right;\">\n",
       "      <th></th>\n",
       "      <th>category_code</th>\n",
       "      <th>status</th>\n",
       "      <th>founded_at</th>\n",
       "      <th>country_code</th>\n",
       "      <th>first_funding_at</th>\n",
       "      <th>last_funding_at</th>\n",
       "      <th>funding_rounds</th>\n",
       "      <th>funding_total_usd</th>\n",
       "      <th>first_milestone_at</th>\n",
       "      <th>last_milestone_at</th>\n",
       "      <th>milestones</th>\n",
       "      <th>relationships</th>\n",
       "      <th>lat</th>\n",
       "      <th>lng</th>\n",
       "    </tr>\n",
       "  </thead>\n",
       "  <tbody>\n",
       "    <tr>\n",
       "      <th>28940</th>\n",
       "      <td>software</td>\n",
       "      <td>operating</td>\n",
       "      <td>2003-02-03</td>\n",
       "      <td>AUS</td>\n",
       "      <td>2003-02-01</td>\n",
       "      <td>2011-12-12</td>\n",
       "      <td>15.0</td>\n",
       "      <td>31594390.0</td>\n",
       "      <td>2009-12-10</td>\n",
       "      <td>2012-10-24</td>\n",
       "      <td>2.0</td>\n",
       "      <td>12.0</td>\n",
       "      <td>-33.868820</td>\n",
       "      <td>151.209295</td>\n",
       "    </tr>\n",
       "    <tr>\n",
       "      <th>130591</th>\n",
       "      <td>biotech</td>\n",
       "      <td>operating</td>\n",
       "      <td>2005-01-01</td>\n",
       "      <td>USA</td>\n",
       "      <td>2006-10-24</td>\n",
       "      <td>2013-06-21</td>\n",
       "      <td>14.0</td>\n",
       "      <td>70930000.0</td>\n",
       "      <td>2013-01-01</td>\n",
       "      <td>2013-01-01</td>\n",
       "      <td>1.0</td>\n",
       "      <td>13.0</td>\n",
       "      <td>33.684567</td>\n",
       "      <td>-117.826505</td>\n",
       "    </tr>\n",
       "    <tr>\n",
       "      <th>185938</th>\n",
       "      <td>mobile</td>\n",
       "      <td>operating</td>\n",
       "      <td>2008-05-01</td>\n",
       "      <td>ESP</td>\n",
       "      <td>2008-04-01</td>\n",
       "      <td>2013-04-01</td>\n",
       "      <td>15.0</td>\n",
       "      <td>140000.0</td>\n",
       "      <td>2008-05-08</td>\n",
       "      <td>2008-05-08</td>\n",
       "      <td>1.0</td>\n",
       "      <td>3.0</td>\n",
       "      <td>40.416775</td>\n",
       "      <td>-3.703790</td>\n",
       "    </tr>\n",
       "  </tbody>\n",
       "</table>\n",
       "</div>"
      ],
      "text/plain": [
       "       category_code     status  founded_at country_code first_funding_at  \\\n",
       "28940       software  operating  2003-02-03          AUS       2003-02-01   \n",
       "130591       biotech  operating  2005-01-01          USA       2006-10-24   \n",
       "185938        mobile  operating  2008-05-01          ESP       2008-04-01   \n",
       "\n",
       "       last_funding_at  funding_rounds  funding_total_usd first_milestone_at  \\\n",
       "28940       2011-12-12            15.0         31594390.0         2009-12-10   \n",
       "130591      2013-06-21            14.0         70930000.0         2013-01-01   \n",
       "185938      2013-04-01            15.0           140000.0         2008-05-08   \n",
       "\n",
       "       last_milestone_at  milestones  relationships        lat         lng  \n",
       "28940         2012-10-24         2.0           12.0 -33.868820  151.209295  \n",
       "130591        2013-01-01         1.0           13.0  33.684567 -117.826505  \n",
       "185938        2008-05-08         1.0            3.0  40.416775   -3.703790  "
      ]
     },
     "execution_count": 14,
     "metadata": {},
     "output_type": "execute_result"
    }
   ],
   "source": [
    "data_df[data_df['funding_rounds']>13]"
   ]
  },
  {
   "cell_type": "code",
   "execution_count": 15,
   "id": "c7046052-6df2-4459-83f4-a9cb8c1e1a13",
   "metadata": {
    "tags": []
   },
   "outputs": [
    {
     "data": {
      "image/png": "[encoded data removed]",
      "text/plain": [
       "<Figure size 576x360 with 1 Axes>"
      ]
     },
     "metadata": {
      "needs_background": "light"
     },
     "output_type": "display_data"
    }
   ],
   "source": [
    "funding_round = data_df[data_df['funding_rounds']>8]['funding_rounds']\n",
    "plt.title('funding_rounds')\n",
    "sns.scatterplot(x = funding_round.index, y =funding_round)\n",
    "plt.show()"
   ]
  },
  {
   "cell_type": "markdown",
   "id": "5792c12a-1cae-4bca-aec1-b01dd9015e3a",
   "metadata": {},
   "source": [
    "> - funding_total_usd"
   ]
  },
  {
   "cell_type": "code",
   "execution_count": 16,
   "id": "47930af9-dd66-48fd-88a4-74e7b33a89d2",
   "metadata": {},
   "outputs": [
    {
     "data": {
      "image/png": "[encoded data removed]",
      "text/plain": [
       "<Figure size 576x360 with 1 Axes>"
      ]
     },
     "metadata": {
      "needs_background": "light"
     },
     "output_type": "display_data"
    }
   ],
   "source": [
    "sns.scatterplot(x=data_df.index,y=data_df.funding_total_usd)\n",
    "plt.show()"
   ]
  },
  {
   "cell_type": "markdown",
   "id": "f2d62c74-7b70-490c-87a1-a658dc19b599",
   "metadata": {},
   "source": [
    "We can clearly see outlier data above 2e+9 in the plot. So now removing outliers from both columns as,"
   ]
  },
  {
   "cell_type": "code",
   "execution_count": 17,
   "id": "2cba782d-3639-4be1-809c-569f87274ded",
   "metadata": {},
   "outputs": [],
   "source": [
    "funding_usd_outlier = data_df[data_df.funding_total_usd > 2e+09]"
   ]
  },
  {
   "cell_type": "code",
   "execution_count": 18,
   "id": "198dc971-09e7-4a76-b7b2-3f11b39513ac",
   "metadata": {},
   "outputs": [],
   "source": [
    "data_df.drop(funding_usd_outlier.index,inplace=True)"
   ]
  },
  {
   "cell_type": "markdown",
   "id": "4003daab-807a-4061-be10-bb1be7474a8a",
   "metadata": {},
   "source": [
    "> - relationships"
   ]
  },
  {
   "cell_type": "code",
   "execution_count": 19,
   "id": "cd10fe97-9fa7-4f5f-bf95-045c899fdfc3",
   "metadata": {},
   "outputs": [
    {
     "data": {
      "image/png": "[encoded data removed]",
      "text/plain": [
       "<Figure size 576x360 with 1 Axes>"
      ]
     },
     "metadata": {
      "needs_background": "light"
     },
     "output_type": "display_data"
    }
   ],
   "source": [
    "sns.scatterplot(x=data_df.index,y=data_df.relationships)\n",
    "plt.show()"
   ]
  },
  {
   "cell_type": "markdown",
   "id": "0ff75a0c-f8ea-48fc-a08f-110abf3de53d",
   "metadata": {},
   "source": [
    "Here there are three outliers which are above 800 values. So now removing outliers as, "
   ]
  },
  {
   "cell_type": "code",
   "execution_count": 20,
   "id": "6e6ff9e5-3a9f-4d16-8855-161928d66c00",
   "metadata": {},
   "outputs": [],
   "source": [
    "outlier_relationship = data_df[data_df['relationships'] > 800]"
   ]
  },
  {
   "cell_type": "code",
   "execution_count": 21,
   "id": "d4df69cf-b125-4a2d-b9b2-1d5880300ec1",
   "metadata": {},
   "outputs": [],
   "source": [
    "data_df.drop(outlier_relationship.index,axis=0, inplace=True)"
   ]
  },
  {
   "cell_type": "code",
   "execution_count": 22,
   "id": "b5f6efb8-7134-4862-abaf-d3fe525f1077",
   "metadata": {},
   "outputs": [
    {
     "data": {
      "text/html": [
       "<div>\n",
       "<style scoped>\n",
       "    .dataframe tbody tr th:only-of-type {\n",
       "        vertical-align: middle;\n",
       "    }\n",
       "\n",
       "    .dataframe tbody tr th {\n",
       "        vertical-align: top;\n",
       "    }\n",
       "\n",
       "    .dataframe thead th {\n",
       "        text-align: right;\n",
       "    }\n",
       "</style>\n",
       "<table border=\"1\" class=\"dataframe\">\n",
       "  <thead>\n",
       "    <tr style=\"text-align: right;\">\n",
       "      <th></th>\n",
       "      <th>funding_rounds</th>\n",
       "      <th>funding_total_usd</th>\n",
       "      <th>milestones</th>\n",
       "      <th>relationships</th>\n",
       "      <th>lat</th>\n",
       "      <th>lng</th>\n",
       "    </tr>\n",
       "  </thead>\n",
       "  <tbody>\n",
       "    <tr>\n",
       "      <th>count</th>\n",
       "      <td>22883.000000</td>\n",
       "      <td>2.046100e+04</td>\n",
       "      <td>35238.000000</td>\n",
       "      <td>48288.000000</td>\n",
       "      <td>61204.000000</td>\n",
       "      <td>61204.000000</td>\n",
       "    </tr>\n",
       "    <tr>\n",
       "      <th>mean</th>\n",
       "      <td>1.805314</td>\n",
       "      <td>1.518290e+07</td>\n",
       "      <td>1.415517</td>\n",
       "      <td>4.371583</td>\n",
       "      <td>37.293587</td>\n",
       "      <td>-50.708815</td>\n",
       "    </tr>\n",
       "    <tr>\n",
       "      <th>std</th>\n",
       "      <td>1.309464</td>\n",
       "      <td>4.920120e+07</td>\n",
       "      <td>0.737546</td>\n",
       "      <td>10.163054</td>\n",
       "      <td>15.813828</td>\n",
       "      <td>70.779537</td>\n",
       "    </tr>\n",
       "    <tr>\n",
       "      <th>min</th>\n",
       "      <td>1.000000</td>\n",
       "      <td>2.910000e+02</td>\n",
       "      <td>1.000000</td>\n",
       "      <td>1.000000</td>\n",
       "      <td>-50.942326</td>\n",
       "      <td>-159.485278</td>\n",
       "    </tr>\n",
       "    <tr>\n",
       "      <th>25%</th>\n",
       "      <td>1.000000</td>\n",
       "      <td>5.102950e+05</td>\n",
       "      <td>1.000000</td>\n",
       "      <td>1.000000</td>\n",
       "      <td>34.052234</td>\n",
       "      <td>-111.998604</td>\n",
       "    </tr>\n",
       "    <tr>\n",
       "      <th>50%</th>\n",
       "      <td>1.000000</td>\n",
       "      <td>2.723900e+06</td>\n",
       "      <td>1.000000</td>\n",
       "      <td>2.000000</td>\n",
       "      <td>39.739236</td>\n",
       "      <td>-75.898684</td>\n",
       "    </tr>\n",
       "    <tr>\n",
       "      <th>75%</th>\n",
       "      <td>2.000000</td>\n",
       "      <td>1.200000e+07</td>\n",
       "      <td>2.000000</td>\n",
       "      <td>4.000000</td>\n",
       "      <td>45.420675</td>\n",
       "      <td>1.799756</td>\n",
       "    </tr>\n",
       "    <tr>\n",
       "      <th>max</th>\n",
       "      <td>15.000000</td>\n",
       "      <td>1.765504e+09</td>\n",
       "      <td>9.000000</td>\n",
       "      <td>666.000000</td>\n",
       "      <td>77.553604</td>\n",
       "      <td>176.165130</td>\n",
       "    </tr>\n",
       "  </tbody>\n",
       "</table>\n",
       "</div>"
      ],
      "text/plain": [
       "       funding_rounds  funding_total_usd    milestones  relationships  \\\n",
       "count    22883.000000       2.046100e+04  35238.000000   48288.000000   \n",
       "mean         1.805314       1.518290e+07      1.415517       4.371583   \n",
       "std          1.309464       4.920120e+07      0.737546      10.163054   \n",
       "min          1.000000       2.910000e+02      1.000000       1.000000   \n",
       "25%          1.000000       5.102950e+05      1.000000       1.000000   \n",
       "50%          1.000000       2.723900e+06      1.000000       2.000000   \n",
       "75%          2.000000       1.200000e+07      2.000000       4.000000   \n",
       "max         15.000000       1.765504e+09      9.000000     666.000000   \n",
       "\n",
       "                lat           lng  \n",
       "count  61204.000000  61204.000000  \n",
       "mean      37.293587    -50.708815  \n",
       "std       15.813828     70.779537  \n",
       "min      -50.942326   -159.485278  \n",
       "25%       34.052234   -111.998604  \n",
       "50%       39.739236    -75.898684  \n",
       "75%       45.420675      1.799756  \n",
       "max       77.553604    176.165130  "
      ]
     },
     "execution_count": 22,
     "metadata": {},
     "output_type": "execute_result"
    }
   ],
   "source": [
    "data_df.describe()"
   ]
  },
  {
   "cell_type": "markdown",
   "id": "198be040-764e-4152-b076-4e5a91d933b7",
   "metadata": {},
   "source": [
    "    c. filing nan values with their mean "
   ]
  },
  {
   "cell_type": "code",
   "execution_count": 23,
   "id": "61d54cf2-64af-427d-8aad-9988f5e693ee",
   "metadata": {},
   "outputs": [],
   "source": [
    "from sklearn.impute import SimpleImputer"
   ]
  },
  {
   "cell_type": "code",
   "execution_count": 24,
   "id": "c2739535-6f9c-44e3-9a9f-36052abd6ae8",
   "metadata": {},
   "outputs": [],
   "source": [
    "imputer = SimpleImputer(strategy='mean')"
   ]
  },
  {
   "cell_type": "code",
   "execution_count": null,
   "id": "30162124-c0d6-4ecf-81c3-9ef753b8c0b3",
   "metadata": {},
   "outputs": [],
   "source": []
  },
  {
   "cell_type": "code",
   "execution_count": null,
   "id": "21437951-3434-4b25-8373-d35812ce3295",
   "metadata": {},
   "outputs": [],
   "source": []
  },
  {
   "cell_type": "code",
   "execution_count": null,
   "id": "8df91101-353c-4025-a73a-358d01555c44",
   "metadata": {},
   "outputs": [],
   "source": []
  },
  {
   "cell_type": "code",
   "execution_count": null,
   "id": "0d55ed2b-00c8-4095-9d55-f0563cf5123a",
   "metadata": {},
   "outputs": [],
   "source": []
  },
  {
   "cell_type": "code",
   "execution_count": null,
   "id": "8f71db9d-6498-45c1-af40-ff5ca7b210ef",
   "metadata": {},
   "outputs": [],
   "source": []
  },
  {
   "cell_type": "code",
   "execution_count": null,
   "id": "e13548c7-e000-4d36-8d9f-1c16bdeb2962",
   "metadata": {},
   "outputs": [],
   "source": []
  },
  {
   "cell_type": "code",
   "execution_count": null,
   "id": "04a36283-44aa-4bb4-849a-53a21403ce53",
   "metadata": {},
   "outputs": [],
   "source": []
  },
  {
   "cell_type": "code",
   "execution_count": null,
   "id": "de7bb6ec-81ba-4f72-9e6c-3caa33c25dd3",
   "metadata": {},
   "outputs": [],
   "source": []
  },
  {
   "cell_type": "code",
   "execution_count": null,
   "id": "ba967acc-13cf-4591-a277-ea4d05ba6cd8",
   "metadata": {},
   "outputs": [],
   "source": []
  },
  {
   "cell_type": "markdown",
   "id": "58684e6c-3b41-43fb-a781-05cb3779c1a0",
   "metadata": {},
   "source": [
    "## Exploratory Data Analysis (EDA)"
   ]
  },
  {
   "cell_type": "markdown",
   "id": "f6f7c41d-53eb-41e1-a02e-b06f46e5af5e",
   "metadata": {},
   "source": [
    "#### Dates conversion"
   ]
  },
  {
   "cell_type": "code",
   "execution_count": 16,
   "id": "4f2a531d-5545-4427-ab83-e0fc608e34f6",
   "metadata": {},
   "outputs": [],
   "source": [
    "data_df.drop(['closed_at'],axis=1,inplace=True)"
   ]
  },
  {
   "cell_type": "markdown",
   "id": "3281aba9-e991-419f-939a-316f8a0429f6",
   "metadata": {},
   "source": [
    "> Now changing types of `founded_at` to datatypes"
   ]
  },
  {
   "cell_type": "code",
   "execution_count": 19,
   "id": "fbbe94d3-9683-4e6b-bd92-d1aeec1c0226",
   "metadata": {},
   "outputs": [],
   "source": [
    "data_df['founded_at'] = pd.to_datetime(data_df['founded_at'],format=\"%Y-%m-%d\")"
   ]
  },
  {
   "cell_type": "code",
   "execution_count": 45,
   "id": "01b41d2b-f13a-4c28-8347-74519a4880c2",
   "metadata": {},
   "outputs": [],
   "source": [
    "data_df['founded_at'] = data_df['founded_at'].fillna(method='bfill').fillna(method='pad')"
   ]
  }
 ],
 "metadata": {
  "kernelspec": {
   "display_name": "Python 3 (ipykernel)",
   "language": "python",
   "name": "python3"
  },
  "language_info": {
   "codemirror_mode": {
    "name": "ipython",
    "version": 3
   },
   "file_extension": ".py",
   "mimetype": "text/x-python",
   "name": "python",
   "nbconvert_exporter": "python",
   "pygments_lexer": "ipython3",
   "version": "3.9.7"
  }
 },
 "nbformat": 4,
 "nbformat_minor": 5
}
